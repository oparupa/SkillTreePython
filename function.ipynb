{
  "nbformat": 4,
  "nbformat_minor": 0,
  "metadata": {
    "colab": {
      "provenance": [],
      "include_colab_link": true
    },
    "kernelspec": {
      "name": "python3",
      "display_name": "Python 3"
    },
    "language_info": {
      "name": "python"
    }
  },
  "cells": [
    {
      "cell_type": "markdown",
      "metadata": {
        "id": "view-in-github",
        "colab_type": "text"
      },
      "source": [
        "<a href=\"https://colab.research.google.com/github/oparupa/SkillTreePython/blob/main/function.ipynb\" target=\"_parent\"><img src=\"https://colab.research.google.com/assets/colab-badge.svg\" alt=\"Open In Colab\"/></a>"
      ]
    },
    {
      "cell_type": "code",
      "source": [
        "#xyz 파라미터에 2가지 방식으로 argument 전달\n",
        "def func(x,y,z) : \n",
        "  return x+y+z\n",
        "func(1,2,3) # 고정 위치 인수 positional argument 방식으로 func함수호출"
      ],
      "metadata": {
        "colab": {
          "base_uri": "https://localhost:8080/"
        },
        "id": "mmTVtPKMRege",
        "outputId": "fbc51b55-7548-4b64-eb01-79131c3df793"
      },
      "execution_count": 1,
      "outputs": [
        {
          "output_type": "execute_result",
          "data": {
            "text/plain": [
              "6"
            ]
          },
          "metadata": {},
          "execution_count": 1
        }
      ]
    },
    {
      "cell_type": "code",
      "source": [
        "func(x=1, z=3, y=2) # 고정 키워드 인수 keyword argument"
      ],
      "metadata": {
        "colab": {
          "base_uri": "https://localhost:8080/"
        },
        "id": "LSieSkL7Rl2l",
        "outputId": "8b80a50b-a5a9-49be-c565-d2ebdf92c6d8"
      },
      "execution_count": 4,
      "outputs": [
        {
          "output_type": "execute_result",
          "data": {
            "text/plain": [
              "6"
            ]
          },
          "metadata": {},
          "execution_count": 4
        }
      ]
    },
    {
      "cell_type": "code",
      "source": [
        "def func(x=1, y=2 ,z=3) : \n",
        "  return x+y+z\n",
        "func() #초기값을 세팅, 인수 정의되지않은 함수콜 대비해서"
      ],
      "metadata": {
        "colab": {
          "base_uri": "https://localhost:8080/"
        },
        "id": "k2IVgYnjTJ2U",
        "outputId": "f26045bf-4c55-4578-d7fc-0bb285a83729"
      },
      "execution_count": 3,
      "outputs": [
        {
          "output_type": "execute_result",
          "data": {
            "text/plain": [
              "6"
            ]
          },
          "metadata": {},
          "execution_count": 3
        }
      ]
    },
    {
      "cell_type": "code",
      "source": [
        "def func(*args) : #가변 위치 인수\n",
        "  return sum(args)\n",
        "func(1,2,3,4)"
      ],
      "metadata": {
        "colab": {
          "base_uri": "https://localhost:8080/"
        },
        "id": "xbPiH0fyTfb9",
        "outputId": "ab23d633-4b9b-4a6e-92b4-8eec7d257b82"
      },
      "execution_count": 6,
      "outputs": [
        {
          "output_type": "execute_result",
          "data": {
            "text/plain": [
              "10"
            ]
          },
          "metadata": {},
          "execution_count": 6
        }
      ]
    },
    {
      "cell_type": "code",
      "source": [
        "def func(*, x,y,z, **kwargs): # * : 키워드 == xyz는 위치변수를 받지 않겠다선언\n",
        "  print('고정키워드'.x.y.z)   ## ** : 가변키워드 인자다.\n",
        "  print(\"가변 키워드\".kwargs) # *대신 / : 오로지 위치변수를 받겠다.\n",
        "func(x=10, y=20, z=30, a=1, b=2)\n",
        "#func(10, 20, 30, a=1, b=2) #키워드 인자받겠다했는데 위치변수 입력해서 에러"
      ],
      "metadata": {
        "colab": {
          "base_uri": "https://localhost:8080/",
          "height": 358
        },
        "id": "b7okrVUuT3nM",
        "outputId": "87d30378-6eb0-463f-e412-97608653d116"
      },
      "execution_count": 12,
      "outputs": [
        {
          "output_type": "error",
          "ename": "AttributeError",
          "evalue": "ignored",
          "traceback": [
            "\u001b[0;31m---------------------------------------------------------------------------\u001b[0m",
            "\u001b[0;31mAttributeError\u001b[0m                            Traceback (most recent call last)",
            "\u001b[0;32m<ipython-input-12-67e4a3832c4c>\u001b[0m in \u001b[0;36m<module>\u001b[0;34m\u001b[0m\n\u001b[1;32m      2\u001b[0m   \u001b[0mprint\u001b[0m\u001b[0;34m(\u001b[0m\u001b[0;34m'고정키워드'\u001b[0m\u001b[0;34m.\u001b[0m\u001b[0mx\u001b[0m\u001b[0;34m.\u001b[0m\u001b[0my\u001b[0m\u001b[0;34m.\u001b[0m\u001b[0mz\u001b[0m\u001b[0;34m)\u001b[0m   \u001b[0;31m## ** : 가변키워드 인자다.\u001b[0m\u001b[0;34m\u001b[0m\u001b[0;34m\u001b[0m\u001b[0m\n\u001b[1;32m      3\u001b[0m   \u001b[0mprint\u001b[0m\u001b[0;34m(\u001b[0m\u001b[0;34m\"가변 키워드\"\u001b[0m\u001b[0;34m.\u001b[0m\u001b[0mkwargs\u001b[0m\u001b[0;34m)\u001b[0m \u001b[0;31m# *대신 / : 오로지 위치변수를 받겠다.\u001b[0m\u001b[0;34m\u001b[0m\u001b[0;34m\u001b[0m\u001b[0m\n\u001b[0;32m----> 4\u001b[0;31m \u001b[0mfunc\u001b[0m\u001b[0;34m(\u001b[0m\u001b[0mx\u001b[0m\u001b[0;34m=\u001b[0m\u001b[0;36m10\u001b[0m\u001b[0;34m,\u001b[0m \u001b[0my\u001b[0m\u001b[0;34m=\u001b[0m\u001b[0;36m20\u001b[0m\u001b[0;34m,\u001b[0m \u001b[0mz\u001b[0m\u001b[0;34m=\u001b[0m\u001b[0;36m30\u001b[0m\u001b[0;34m,\u001b[0m \u001b[0ma\u001b[0m\u001b[0;34m=\u001b[0m\u001b[0;36m1\u001b[0m\u001b[0;34m,\u001b[0m \u001b[0mb\u001b[0m\u001b[0;34m=\u001b[0m\u001b[0;36m2\u001b[0m\u001b[0;34m)\u001b[0m\u001b[0;34m\u001b[0m\u001b[0;34m\u001b[0m\u001b[0m\n\u001b[0m\u001b[1;32m      5\u001b[0m \u001b[0;31m#func(10, 20, 30, a=1, b=2) #키워드 인자받겠다했는데 위치변수 입력해서 에러\u001b[0m\u001b[0;34m\u001b[0m\u001b[0;34m\u001b[0m\u001b[0;34m\u001b[0m\u001b[0m\n",
            "\u001b[0;32m<ipython-input-12-67e4a3832c4c>\u001b[0m in \u001b[0;36mfunc\u001b[0;34m(x, y, z, **kwargs)\u001b[0m\n\u001b[1;32m      1\u001b[0m \u001b[0;32mdef\u001b[0m \u001b[0mfunc\u001b[0m\u001b[0;34m(\u001b[0m\u001b[0;34m*\u001b[0m\u001b[0;34m,\u001b[0m \u001b[0mx\u001b[0m\u001b[0;34m,\u001b[0m\u001b[0my\u001b[0m\u001b[0;34m,\u001b[0m\u001b[0mz\u001b[0m\u001b[0;34m,\u001b[0m \u001b[0;34m**\u001b[0m\u001b[0mkwargs\u001b[0m\u001b[0;34m)\u001b[0m\u001b[0;34m:\u001b[0m \u001b[0;31m# * : 키워드 == xyz는 위치변수를 받지 않겠다선언\u001b[0m\u001b[0;34m\u001b[0m\u001b[0;34m\u001b[0m\u001b[0m\n\u001b[0;32m----> 2\u001b[0;31m   \u001b[0mprint\u001b[0m\u001b[0;34m(\u001b[0m\u001b[0;34m'고정키워드'\u001b[0m\u001b[0;34m.\u001b[0m\u001b[0mx\u001b[0m\u001b[0;34m.\u001b[0m\u001b[0my\u001b[0m\u001b[0;34m.\u001b[0m\u001b[0mz\u001b[0m\u001b[0;34m)\u001b[0m   \u001b[0;31m## ** : 가변키워드 인자다.\u001b[0m\u001b[0;34m\u001b[0m\u001b[0;34m\u001b[0m\u001b[0m\n\u001b[0m\u001b[1;32m      3\u001b[0m   \u001b[0mprint\u001b[0m\u001b[0;34m(\u001b[0m\u001b[0;34m\"가변 키워드\"\u001b[0m\u001b[0;34m.\u001b[0m\u001b[0mkwargs\u001b[0m\u001b[0;34m)\u001b[0m \u001b[0;31m# *대신 / : 오로지 위치변수를 받겠다.\u001b[0m\u001b[0;34m\u001b[0m\u001b[0;34m\u001b[0m\u001b[0m\n\u001b[1;32m      4\u001b[0m \u001b[0mfunc\u001b[0m\u001b[0;34m(\u001b[0m\u001b[0mx\u001b[0m\u001b[0;34m=\u001b[0m\u001b[0;36m10\u001b[0m\u001b[0;34m,\u001b[0m \u001b[0my\u001b[0m\u001b[0;34m=\u001b[0m\u001b[0;36m20\u001b[0m\u001b[0;34m,\u001b[0m \u001b[0mz\u001b[0m\u001b[0;34m=\u001b[0m\u001b[0;36m30\u001b[0m\u001b[0;34m,\u001b[0m \u001b[0ma\u001b[0m\u001b[0;34m=\u001b[0m\u001b[0;36m1\u001b[0m\u001b[0;34m,\u001b[0m \u001b[0mb\u001b[0m\u001b[0;34m=\u001b[0m\u001b[0;36m2\u001b[0m\u001b[0;34m)\u001b[0m\u001b[0;34m\u001b[0m\u001b[0;34m\u001b[0m\u001b[0m\n\u001b[1;32m      5\u001b[0m \u001b[0;31m#func(10, 20, 30, a=1, b=2) #키워드 인자받겠다했는데 위치변수 입력해서 에러\u001b[0m\u001b[0;34m\u001b[0m\u001b[0;34m\u001b[0m\u001b[0;34m\u001b[0m\u001b[0m\n",
            "\u001b[0;31mAttributeError\u001b[0m: 'str' object has no attribute 'x'"
          ]
        }
      ]
    },
    {
      "cell_type": "code",
      "source": [
        "#########################################################################\n",
        "x = 1  # global scope\n",
        "######################################################################\n",
        "\n",
        "def func():  # global #함수도 객체다. x도 func도 객체\n",
        "  x = 10   # local scope\n",
        "  return x\n",
        "\n",
        "ret = func() # global scope\n",
        "print(ret)\n",
        "print(x) #global (func안의 x는 return했기때문에 더이상 존재x)"
      ],
      "metadata": {
        "colab": {
          "base_uri": "https://localhost:8080/"
        },
        "id": "b0idRgMmKfDU",
        "outputId": "68597c19-fcaf-4422-ec88-d7ef4137ee4f"
      },
      "execution_count": 13,
      "outputs": [
        {
          "output_type": "stream",
          "name": "stdout",
          "text": [
            "10\n",
            "1\n"
          ]
        }
      ]
    },
    {
      "cell_type": "code",
      "source": [
        "#중첩함수\n",
        "def outer_funces():\n",
        "  x = 10\n",
        "  print('+outer_funces')\n",
        "\n",
        "  def inners():   #함수 정의문\n",
        "    print(\"x of inners is = \", x) \n",
        "    return\n",
        "\n",
        "  # call inners()\n",
        "  inners() # def inners()로 branch\n",
        "\n",
        "  \n",
        "\n",
        "  print(\"x of outer is = \", x)\n",
        "  print('-outer_funces')\n",
        "  return "
      ],
      "metadata": {
        "id": "WjI4_phlyRFI"
      },
      "execution_count": 16,
      "outputs": []
    },
    {
      "cell_type": "code",
      "source": [
        "outer_funces()"
      ],
      "metadata": {
        "colab": {
          "base_uri": "https://localhost:8080/"
        },
        "id": "16z4gtAryXUn",
        "outputId": "51ed514e-44e4-4c9c-a6a5-278525f7bb22"
      },
      "execution_count": 17,
      "outputs": [
        {
          "output_type": "stream",
          "name": "stdout",
          "text": [
            "+outer_funces\n",
            "x of inners is =  10\n",
            "-outer_funces\n",
            "x of outer is =  10\n",
            "-outer_funces\n"
          ]
        }
      ]
    },
    {
      "cell_type": "code",
      "source": [
        "def outer_funcs():\n",
        "  x = 10 #아래 x=3과 전혀다른 x\n",
        "\n",
        "  def inners():\n",
        "    x = 3   #  x에 대해서 (=)를 처음 사용한다는 것은\n",
        "            #  inners의 local scope에서 x라는 로컬 변수를 선언!!!\n",
        "    x = 5  # x 에 저장된 값을 3에서 5로 변경\n",
        "    print(\"x of inners is = \", x) \n",
        "    return\n",
        "\n",
        "  # call inners()\n",
        "  inners()\n",
        "\n",
        "  print(\"x of outer is = \", x) #outer_funcs의 x\n",
        "  return "
      ],
      "metadata": {
        "id": "aT4o2YEDrb_e"
      },
      "execution_count": 18,
      "outputs": []
    },
    {
      "cell_type": "code",
      "source": [
        "outer_funcs()"
      ],
      "metadata": {
        "colab": {
          "base_uri": "https://localhost:8080/"
        },
        "id": "k5L0S1GsrlUV",
        "outputId": "6c6604db-b549-414c-e883-3c8221644cab"
      },
      "execution_count": 19,
      "outputs": [
        {
          "output_type": "stream",
          "name": "stdout",
          "text": [
            "x of inners is =  5\n",
            "x of outer is =  10\n"
          ]
        }
      ]
    },
    {
      "cell_type": "code",
      "source": [
        "x #x는 outer_funcs()에서 죽음"
      ],
      "metadata": {
        "colab": {
          "base_uri": "https://localhost:8080/"
        },
        "id": "F0FbF4MiWrS-",
        "outputId": "15a3b92c-c2cf-4f1d-dda2-038ee0d21163"
      },
      "execution_count": 20,
      "outputs": [
        {
          "output_type": "execute_result",
          "data": {
            "text/plain": [
              "1"
            ]
          },
          "metadata": {},
          "execution_count": 20
        }
      ]
    },
    {
      "cell_type": "code",
      "source": [
        "x = 5  # 5라는 정수값(Integer.real)이 할당된 정수 클래스 객체의 주소(reference)를 할당(binding)"
      ],
      "metadata": {
        "id": "r11ULYr8vsLm"
      },
      "execution_count": 23,
      "outputs": []
    },
    {
      "cell_type": "code",
      "execution_count": 25,
      "metadata": {
        "id": "9M9bnRHqqbWj",
        "colab": {
          "base_uri": "https://localhost:8080/"
        },
        "outputId": "94f4812a-438d-472d-8da5-158d9c75789f"
      },
      "outputs": [
        {
          "output_type": "stream",
          "name": "stdout",
          "text": [
            "x of outer_func is =  5\n",
            "-x of inner is =  10\n",
            "g x= 5\n"
          ]
        }
      ],
      "source": [
        "def outer_func(x):  # 파라미터 x도 outer_func의 로컬변수이다!!!\n",
        "  print(\"x of outer_func is = \", x) \n",
        "\n",
        "  def inner(y):\n",
        "    #nonlocal x\n",
        "    #global x \n",
        "    #print(\"y of inner is = \", x) \n",
        "    #print(\"+x of inner is = \", x) \n",
        "    #x += 1  # x = x + 1 #sugar code #x는 글로벌인데 x라는 지역변수가 없다.라고 에러뜸\n",
        "    x = 10\n",
        "    # 글로벌변수 x를 참조 못한다.\n",
        "\n",
        "    print(\"-x of inner is = \", x) \n",
        "    return x + y\n",
        "\n",
        "  return inner(5)\n",
        "\n",
        "outer_func(x)\n",
        "print(\"g x=\", x)"
      ]
    },
    {
      "cell_type": "code",
      "source": [
        "def outer_func(x):  # 파라미터 x도 outer_func의 로컬변수이다!!!\n",
        "  print(\"x of outer_func is = \", x) \n",
        "\n",
        "  def inner(y):\n",
        "    nonlocal x #이 x는 글로벌x라고 키워드로 알려주는것\n",
        "    #global x \n",
        "    print(\"y of inner is = \", x) \n",
        "    print(\"+x of inner is = \", x) \n",
        "    x += 1  # x = x + 1 #sugar code\n",
        "\n",
        "    print(\"-x of inner is = \", x) \n",
        "    return x + y\n",
        "\n",
        "  return inner(5)"
      ],
      "metadata": {
        "id": "NWsq3-4qXGBF"
      },
      "execution_count": 27,
      "outputs": []
    },
    {
      "cell_type": "code",
      "source": [
        "outer_func(x)\n",
        "print(\"g x=\", x)"
      ],
      "metadata": {
        "colab": {
          "base_uri": "https://localhost:8080/"
        },
        "id": "BKMzhNc3q5NW",
        "outputId": "f98fb244-3f5b-4f9f-cea1-6f37f6bc2526"
      },
      "execution_count": 28,
      "outputs": [
        {
          "output_type": "stream",
          "name": "stdout",
          "text": [
            "x of outer_func is =  5\n",
            "y of inner is =  5\n",
            "+x of inner is =  5\n",
            "-x of inner is =  6\n",
            "g x= 5\n"
          ]
        }
      ]
    },
    {
      "cell_type": "code",
      "source": [],
      "metadata": {
        "id": "XirUquLDq-F9"
      },
      "execution_count": null,
      "outputs": []
    },
    {
      "cell_type": "markdown",
      "source": [
        "클로저 함수 조건\n",
        "* 중첩함수(Netsted Function) 자식함수가 있어야\n",
        "* Outer Function의 변수를 Inner Functidn에서 사용한다:자유변수\n",
        "* Outer Function의 리턴값은 Inner Function이다 리턴값이 내부함수여야(함수또한 객체이기 때문)"
      ],
      "metadata": {
        "id": "7P8wjh9T6EeA"
      }
    },
    {
      "cell_type": "code",
      "source": [
        "def clfunc():\n",
        "  li = list()   #1 li = 자유변수 ; 죽지 않는다. #함수내의 변수는 return시 소멸됨\n",
        "  #외부함수의 지역변수\n",
        "\n",
        "  def innerf(args): #내부함수\n",
        "    li.append(args) #외부함수의 변수 사용하고 있다\n",
        "    #print(li)\n",
        "    return li\n",
        "\n",
        "  return innerf #2 #리턴값이 내부함수"
      ],
      "metadata": {
        "id": "cAnu5jAo_XZJ"
      },
      "execution_count": 29,
      "outputs": []
    },
    {
      "cell_type": "code",
      "source": [
        "clo = clfunc()\n",
        "clo"
      ],
      "metadata": {
        "colab": {
          "base_uri": "https://localhost:8080/"
        },
        "id": "kRww8vQL_rCg",
        "outputId": "b983609c-15d3-421d-fbe2-6ddf63abdd49"
      },
      "execution_count": 30,
      "outputs": [
        {
          "output_type": "execute_result",
          "data": {
            "text/plain": [
              "<function __main__.clfunc.<locals>.innerf(args)>"
            ]
          },
          "metadata": {},
          "execution_count": 30
        }
      ]
    },
    {
      "cell_type": "code",
      "source": [
        "clo.__closure__[0].cell_contents"
      ],
      "metadata": {
        "colab": {
          "base_uri": "https://localhost:8080/"
        },
        "id": "vfZT17weB4oB",
        "outputId": "07aeecdb-5ed3-4c9f-e330-9155399c5b3f"
      },
      "execution_count": 31,
      "outputs": [
        {
          "output_type": "execute_result",
          "data": {
            "text/plain": [
              "[]"
            ]
          },
          "metadata": {},
          "execution_count": 31
        }
      ]
    },
    {
      "cell_type": "code",
      "source": [
        "clo(1)"
      ],
      "metadata": {
        "colab": {
          "base_uri": "https://localhost:8080/"
        },
        "id": "TrnTqsg4_0RY",
        "outputId": "5cbe5d97-4659-4592-ef0d-69dcfa832ead"
      },
      "execution_count": 32,
      "outputs": [
        {
          "output_type": "execute_result",
          "data": {
            "text/plain": [
              "[1]"
            ]
          },
          "metadata": {},
          "execution_count": 32
        }
      ]
    },
    {
      "cell_type": "code",
      "source": [
        "clo(2)"
      ],
      "metadata": {
        "colab": {
          "base_uri": "https://localhost:8080/"
        },
        "id": "lUV5jIDm_3ZQ",
        "outputId": "1e4331bc-820b-4838-c3b7-40025adf9546"
      },
      "execution_count": 33,
      "outputs": [
        {
          "output_type": "execute_result",
          "data": {
            "text/plain": [
              "[1, 2]"
            ]
          },
          "metadata": {},
          "execution_count": 33
        }
      ]
    },
    {
      "cell_type": "code",
      "source": [
        "clo(3) #함수호출syndex해도 가능, $$First class citizen$$이기 때문"
      ],
      "metadata": {
        "colab": {
          "base_uri": "https://localhost:8080/"
        },
        "id": "xmEVO1Ww_9qY",
        "outputId": "1be73c6d-e7ac-4902-b880-568de35f0f4e"
      },
      "execution_count": 34,
      "outputs": [
        {
          "output_type": "execute_result",
          "data": {
            "text/plain": [
              "[1, 2, 3]"
            ]
          },
          "metadata": {},
          "execution_count": 34
        }
      ]
    },
    {
      "cell_type": "code",
      "source": [
        "a = 3\n",
        "a(7)"
      ],
      "metadata": {
        "colab": {
          "base_uri": "https://localhost:8080/",
          "height": 193
        },
        "id": "P8dRKh6saHqu",
        "outputId": "e4a864c1-5b4e-4cf2-dbb3-108c544763f0"
      },
      "execution_count": 38,
      "outputs": [
        {
          "output_type": "error",
          "ename": "TypeError",
          "evalue": "ignored",
          "traceback": [
            "\u001b[0;31m---------------------------------------------------------------------------\u001b[0m",
            "\u001b[0;31mTypeError\u001b[0m                                 Traceback (most recent call last)",
            "\u001b[0;32m<ipython-input-38-be895ddc90b1>\u001b[0m in \u001b[0;36m<module>\u001b[0;34m\u001b[0m\n\u001b[1;32m      1\u001b[0m \u001b[0ma\u001b[0m \u001b[0;34m=\u001b[0m \u001b[0;36m3\u001b[0m\u001b[0;34m\u001b[0m\u001b[0;34m\u001b[0m\u001b[0m\n\u001b[0;32m----> 2\u001b[0;31m \u001b[0ma\u001b[0m\u001b[0;34m(\u001b[0m\u001b[0;36m7\u001b[0m\u001b[0;34m)\u001b[0m\u001b[0;34m\u001b[0m\u001b[0;34m\u001b[0m\u001b[0m\n\u001b[0m",
            "\u001b[0;31mTypeError\u001b[0m: 'int' object is not callable"
          ]
        }
      ]
    },
    {
      "cell_type": "code",
      "source": [
        "def closure(x) : #x : 파라미터, 지역변수X, 파라미터도 자유변수가 될 수 있다.\n",
        "  def inner (y) :\n",
        "    nonlocal x\n",
        "    x = x *y\n",
        "    #print(x)\n",
        "    return x\n",
        "  return inner"
      ],
      "metadata": {
        "id": "UB7McC0V__1o"
      },
      "execution_count": 46,
      "outputs": []
    },
    {
      "cell_type": "code",
      "source": [
        "clo2 = closure(5) "
      ],
      "metadata": {
        "id": "Rr0wkq-MAR7_"
      },
      "execution_count": 47,
      "outputs": []
    },
    {
      "cell_type": "code",
      "source": [
        "clo2 #function type, clo2는 함수 객체"
      ],
      "metadata": {
        "colab": {
          "base_uri": "https://localhost:8080/"
        },
        "id": "BWAyI9fmAViQ",
        "outputId": "d47fc42a-2b7e-4cb9-af3a-f03f7ef1c477"
      },
      "execution_count": 48,
      "outputs": [
        {
          "output_type": "execute_result",
          "data": {
            "text/plain": [
              "<function __main__.closure.<locals>.inner(y)>"
            ]
          },
          "metadata": {},
          "execution_count": 48
        }
      ]
    },
    {
      "cell_type": "code",
      "source": [
        "def alert_start(func): #클로저함수 정의 #자유변수 : func\n",
        "  print(\"+alert_start\") #호출\n",
        "  print(\"alert_start의 func=\", func)   #호출\n",
        "  def new_func(*args, **kwargs):\n",
        "    print(\"alert_start:new_func:함수가 시작됩니다.\")\n",
        "    #func함수는 우리가 정의한 sum_all함수!!!\n",
        "    return func(*args, **kwargs)  # func is sum_all 호출해서 결과값 return\n",
        "\n",
        "\n",
        "  print(\"-alert_start\")\n",
        "  return new_func #inner함수 return ==> 클로저함수"
      ],
      "metadata": {
        "id": "9OBwxUfgAWs_"
      },
      "execution_count": 49,
      "outputs": []
    },
    {
      "cell_type": "code",
      "source": [
        "def alert_end(func):  #sum_all이 아니라 alert_start의 new_func\n",
        "  print(\"+alert_end\")\n",
        "  print(\"alert_end의 func=\", func)  # alert_start.new_func\n",
        "  def new_func(*args, **kwargs):\n",
        "    print(\"+alert_end:new_func\")\n",
        "    result=func(*args, **kwargs)  # alert_start.new_func #start가 new_func 리턴하기때문\n",
        "    print(\"-alert_end:new_func:함수가 끝났습니다.\")\n",
        "    return result #func함수의 결과값을 return\n",
        "    \n",
        "\n",
        "  print(\"-alert_end\")\n",
        "  return new_func"
      ],
      "metadata": {
        "id": "J-UnwM6Rtis3"
      },
      "execution_count": 63,
      "outputs": []
    },
    {
      "cell_type": "code",
      "source": [
        "def sum_all(*args): #가변 위치 args 받겠다\n",
        "  print(\"sum 함수를 호출합니다\")\n",
        "  return sum(args) #builtin의 sum 호출\n",
        "\n",
        "print(\"before sum_all=\",sum_all)"
      ],
      "metadata": {
        "colab": {
          "base_uri": "https://localhost:8080/"
        },
        "id": "qHeySdr9QEZ0",
        "outputId": "1d3f4ad0-d718-4c06-cccb-4d1824b6a39b"
      },
      "execution_count": 64,
      "outputs": [
        {
          "output_type": "stream",
          "name": "stdout",
          "text": [
            "before sum_all= <function sum_all at 0x7f1ac88bb3a0>\n"
          ]
        }
      ]
    },
    {
      "cell_type": "code",
      "source": [
        "sum_all = alert_start(sum_all) # 변수 sum_all는 alert_start의 내부함수,new_func이다!!!\n",
        "                               # alert_start함수 파라미터의 argument인 sum_all은 우리가 정의한 함수!\n",
        "                               #sum_all이라는 객체가 alert_start에 전달\n",
        "                               #ex는 new_func의 함수객체\n",
        "print(\"after sum_all=\",sum_all)"
      ],
      "metadata": {
        "colab": {
          "base_uri": "https://localhost:8080/"
        },
        "id": "wltCz2vXHB7n",
        "outputId": "37e07530-13a1-46b8-8e76-91a18e8a2b4c"
      },
      "execution_count": 65,
      "outputs": [
        {
          "output_type": "stream",
          "name": "stdout",
          "text": [
            "+alert_start\n",
            "alert_start의 func= <function sum_all at 0x7f1ac88bb3a0>\n",
            "-alert_start\n",
            "after sum_all= <function alert_start.<locals>.new_func at 0x7f1ac8804430>\n"
          ]
        }
      ]
    },
    {
      "cell_type": "code",
      "source": [
        "sum_all(1,2,3,4,5) #sum_all함수는 alert_start의 내부함수, new_func이다\n",
        "#positional argument를 줘서 실행\n",
        "#print(\"alert_start:new_func:함수가 시작됩니다.\")\n",
        "#1,2,3,4,5 가변위치변수"
      ],
      "metadata": {
        "colab": {
          "base_uri": "https://localhost:8080/"
        },
        "id": "y_7xhiFzUE5s",
        "outputId": "7296edce-df1b-46c9-af96-fc5ffa0aa81e"
      },
      "execution_count": 66,
      "outputs": [
        {
          "output_type": "stream",
          "name": "stdout",
          "text": [
            "alert_start:new_func:함수가 시작됩니다.\n",
            "sum 함수를 호출합니다\n"
          ]
        },
        {
          "output_type": "execute_result",
          "data": {
            "text/plain": [
              "15"
            ]
          },
          "metadata": {},
          "execution_count": 66
        }
      ]
    },
    {
      "cell_type": "code",
      "source": [
        "# @ : 데코레이터(함수데코레이터는 잘쓰진 않음, 클래스 데코레이터가 중요, 이건 함수 데코레이터)\n",
        "@alert_start       # 동일 의미: sum_all = alert_start(sum_all) #start의 내부함수 호출\n",
        "def sum_all(*args): #sum_all위에 start 데코레이트 => sum_all이 start의 argument 전달\n",
        "  return sum(args)"
      ],
      "metadata": {
        "colab": {
          "base_uri": "https://localhost:8080/"
        },
        "id": "pymQ22HXTtLO",
        "outputId": "77275a97-4d46-435a-c844-55a2a1808c36"
      },
      "execution_count": 67,
      "outputs": [
        {
          "output_type": "stream",
          "name": "stdout",
          "text": [
            "+alert_start\n",
            "alert_start의 func= <function sum_all at 0x7f1ac88bb280>\n",
            "-alert_start\n"
          ]
        }
      ]
    },
    {
      "cell_type": "code",
      "source": [
        "sum_all(1,2,3,4,5)"
      ],
      "metadata": {
        "colab": {
          "base_uri": "https://localhost:8080/"
        },
        "id": "q_xwQorOUCq0",
        "outputId": "fc3bab1d-a35c-4d09-e817-063e89fba097"
      },
      "execution_count": 68,
      "outputs": [
        {
          "output_type": "stream",
          "name": "stdout",
          "text": [
            "alert_start:new_func:함수가 시작됩니다.\n"
          ]
        },
        {
          "output_type": "execute_result",
          "data": {
            "text/plain": [
              "15"
            ]
          },
          "metadata": {},
          "execution_count": 68
        }
      ]
    },
    {
      "cell_type": "code",
      "source": [
        "@alert_end         # -> alert_end(alert_start.new_func) 그다음수행 #start의 return값이 new_func이기때문\n",
        "@alert_start       # -> alert_start() 함수가 호출됨!!! 먼저수행\n",
        "def sum_all(*args):\n",
        "  return sum(args)"
      ],
      "metadata": {
        "colab": {
          "base_uri": "https://localhost:8080/"
        },
        "id": "l-tsB_8Htll_",
        "outputId": "a311332b-4c3a-4a28-af5a-8fa945e8a23d"
      },
      "execution_count": 69,
      "outputs": [
        {
          "output_type": "stream",
          "name": "stdout",
          "text": [
            "+alert_start\n",
            "alert_start의 func= <function sum_all at 0x7f1ac87fa940>\n",
            "-alert_start\n",
            "+alert_end\n",
            "alert_end의 func= <function alert_start.<locals>.new_func at 0x7f1ac88449d0>\n",
            "-alert_end\n"
          ]
        }
      ]
    },
    {
      "cell_type": "code",
      "source": [
        "sum_all(1,2,3,4,5)"
      ],
      "metadata": {
        "colab": {
          "base_uri": "https://localhost:8080/"
        },
        "id": "CTq-UuBxv-5P",
        "outputId": "a57fb0fb-b275-417f-8354-a4a5156ddcfd"
      },
      "execution_count": 62,
      "outputs": [
        {
          "output_type": "stream",
          "name": "stdout",
          "text": [
            "+alert_end:new_func\n",
            "alert_start:new_func:함수가 시작됩니다.\n",
            "-alert_end:new_func:함수가 끝났습니다.\n"
          ]
        },
        {
          "output_type": "execute_result",
          "data": {
            "text/plain": [
              "15"
            ]
          },
          "metadata": {},
          "execution_count": 62
        }
      ]
    },
    {
      "cell_type": "code",
      "source": [
        "alert_end(alert_start(sum_all))(1,2,3,4,5) #함수체인콜 #이런식으로 코딩X"
      ],
      "metadata": {
        "id": "vy_lC2oPwBbl",
        "colab": {
          "base_uri": "https://localhost:8080/"
        },
        "outputId": "9edfcd18-6284-4e67-db7c-2c85378da1c0"
      },
      "execution_count": 70,
      "outputs": [
        {
          "output_type": "stream",
          "name": "stdout",
          "text": [
            "+alert_start\n",
            "alert_start의 func= <function alert_end.<locals>.new_func at 0x7f1ac88448b0>\n",
            "-alert_start\n",
            "+alert_end\n",
            "alert_end의 func= <function alert_start.<locals>.new_func at 0x7f1ac88041f0>\n",
            "-alert_end\n",
            "+alert_end:new_func\n",
            "alert_start:new_func:함수가 시작됩니다.\n",
            "+alert_end:new_func\n",
            "alert_start:new_func:함수가 시작됩니다.\n",
            "-alert_end:new_func:함수가 끝났습니다.\n",
            "-alert_end:new_func:함수가 끝났습니다.\n"
          ]
        },
        {
          "output_type": "execute_result",
          "data": {
            "text/plain": [
              "15"
            ]
          },
          "metadata": {},
          "execution_count": 70
        }
      ]
    },
    {
      "cell_type": "code",
      "source": [],
      "metadata": {
        "id": "FP6C8xo6lEsc"
      },
      "execution_count": null,
      "outputs": []
    }
  ]
}