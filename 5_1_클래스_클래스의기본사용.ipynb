{
  "nbformat": 4,
  "nbformat_minor": 0,
  "metadata": {
    "colab": {
      "provenance": [],
      "include_colab_link": true
    },
    "kernelspec": {
      "name": "python3",
      "display_name": "Python 3"
    },
    "language_info": {
      "name": "python"
    }
  },
  "cells": [
    {
      "cell_type": "markdown",
      "metadata": {
        "id": "view-in-github",
        "colab_type": "text"
      },
      "source": [
        "<a href=\"https://colab.research.google.com/github/oparupa/SkillTreePython/blob/main/5_1_%ED%81%B4%EB%9E%98%EC%8A%A4_%ED%81%B4%EB%9E%98%EC%8A%A4%EC%9D%98%EA%B8%B0%EB%B3%B8%EC%82%AC%EC%9A%A9.ipynb\" target=\"_parent\"><img src=\"https://colab.research.google.com/assets/colab-badge.svg\" alt=\"Open In Colab\"/></a>"
      ]
    },
    {
      "cell_type": "markdown",
      "metadata": {
        "id": "jgFAOz-Tw1VI"
      },
      "source": [
        "5-1.클래스:클래스의 기본 사용\n",
        "---\n",
        "* 날짜:\n",
        "* 이름:\n"
      ]
    },
    {
      "cell_type": "markdown",
      "metadata": {
        "id": "roC8A6Ro6THT"
      },
      "source": [
        "## 개념정리\n",
        "---\n",
        "\n"
      ]
    },
    {
      "cell_type": "markdown",
      "source": [
        "프로그래밍 언어는 크게 두가지 실행 방식으로 나뉠수 있습니다.\n",
        "\n",
        "* **절차지향적 코드**\n",
        "  - 위에서부터 아래로 순서대로 코드가 진행된다.\n",
        "  - ex) c++는 절차지향만을 사용\n",
        "\n",
        "* **객체지향적 코드**\n",
        "  - 객체지향은 객체를 만들어서 이 객체를 언제, 어디서든, 몇개든 사용할 수 있도록 하는 것\n",
        "  - ex) 자바, 파이썬 등\n",
        "\n"
      ],
      "metadata": {
        "id": "Ee54frgJYOr8"
      }
    },
    {
      "cell_type": "markdown",
      "metadata": {
        "id": "4azv1P74n23k"
      },
      "source": [
        "###**(1) 정의**\n",
        "\n",
        "클래스는 아래와 같이 정의 할 수 있습니다. \n",
        "\n",
        "\n",
        "```\n",
        "class Student:\n",
        "    pass\n",
        "```\n",
        "\n"
      ]
    },
    {
      "cell_type": "code",
      "metadata": {
        "id": "myVCV-mSn23l"
      },
      "source": [
        "class Student:#클래스는 보통 대문자\n",
        "    pass"
      ],
      "execution_count": 1,
      "outputs": []
    },
    {
      "cell_type": "markdown",
      "source": [
        "클래스를 만들어 놓으면 틀만 만들어 놓은것과 같습니다. 이제 틀을 이용하여 인스턴스를 만들어 봅시다. "
      ],
      "metadata": {
        "id": "7jJg3FA2iRtY"
      }
    },
    {
      "cell_type": "markdown",
      "metadata": {
        "id": "KCOmBjQRn23l"
      },
      "source": [
        "###**(2) 인스턴스 생성**\n",
        "\n",
        "인스턴스란 위에서 만든 클래스라는 틀을 이용해 똑같은 일을 하는 함수들을 찍어내는 것을 말합니다. Student 클래스의 인스턴스를 생성하고 이를 me 라는 변수로 바인딩합시다.\n",
        "\n",
        "```\n",
        "me = Student()\n",
        "```\n",
        "\n"
      ]
    },
    {
      "cell_type": "code",
      "metadata": {
        "id": "HJi-ra_wn23l"
      },
      "source": [
        "me = Student()"
      ],
      "execution_count": 2,
      "outputs": []
    },
    {
      "cell_type": "markdown",
      "source": [
        "이제부터는 `me`라는 객체를 이용해서 클래스 내부의 여러가지 기능을 사용할 수 있습니다. 하지만 우리가 방금 만든 `Student`라는 클래스는 아무런 기능을 하지 않습니다. 기능을 할 수 있도록 클래스 내부에 속성을 추가해 봅시다. "
      ],
      "metadata": {
        "id": "ZkrmiFLzlWzX"
      }
    },
    {
      "cell_type": "markdown",
      "metadata": {
        "id": "QZ3_evMHn23l"
      },
      "source": [
        "###**(3) 속성**"
      ]
    },
    {
      "cell_type": "markdown",
      "source": [
        "#### **초기화 메서드**\n",
        "\n",
        "\n",
        "`__init__` 메서드는 초기화 메서드입니다. 클래스가 생성되면 `__init__` 메서드가 자동적으로 실행되며 클래스의 값을 지정된 값으로 초기화 합니다. 이 때 값은 인스턴스를 만들 때 넣어준 인자로 만듭니다. \n",
        "\n",
        "`Student` 클래스에 이를 이용해 초기값을 세팅해 봅시다. 학생의 이름과 수강 과목, 그리고 레벨을 정의합시다. 이름과 수강 과목은 인스턴스를 생성할 때 입려개하도록 하고, 레벨은 0부터 시작하도록 합시다.\n",
        "\n",
        "\n",
        "```\n",
        "class Student():\n",
        "    def __init__(self, name, subject):\n",
        "      self.name = name\n",
        "      self.subject = subject\n",
        "      self.level = 0\n",
        "\n",
        "me = Student(\"김모모\", \"기초반\")\n",
        "\n",
        "```"
      ],
      "metadata": {
        "id": "PDR3CtnZoUj1"
      }
    },
    {
      "cell_type": "markdown",
      "metadata": {
        "id": "P3KmS4awqk6E"
      },
      "source": [
        "* 클래스 생성"
      ]
    },
    {
      "cell_type": "code",
      "metadata": {
        "id": "tUKx8JbCqk6F"
      },
      "source": [
        "class Student(): \n",
        "  # Student 클래스는 인풋 name, subject가 필요하다\n",
        "  def __init__(self, name, subject): # 함수이름 : __init__ -> 매직메서드: 호출 시 바로 실행 된다. 클래스에 (거의) 필수요소\n",
        "    print('클래스 Student가 호출되었습니다.')\n",
        "    # self는 클래스안의 함수들끼리 소통위해 존재\n",
        "    # name, subject를 다른 함수에서도 사용하게끔 정의를 해주자\n",
        "    self.name = name\n",
        "    self.subject = subject\n",
        "    self.level = 0\n",
        "\n",
        "# 클래스안에 포함된 함수들은 무조건 'self' 인풋이 포함되어 있어야 한다."
      ],
      "execution_count": 3,
      "outputs": []
    },
    {
      "cell_type": "markdown",
      "metadata": {
        "id": "NUcDQ1mUqk6F"
      },
      "source": [
        "* 인스턴스 생성"
      ]
    },
    {
      "cell_type": "code",
      "metadata": {
        "id": "KKAusE2Hqk6F",
        "outputId": "48744034-4696-4965-a9d6-ced53c5a82cc",
        "colab": {
          "base_uri": "https://localhost:8080/"
        }
      },
      "source": [
        "me = Student('윤예빈', '자율주행') # 인스턴스 생성시 필요한 인풋은 __init__ 함수에서 결정\n",
        "you = Student('홍길동', '자율주행')"
      ],
      "execution_count": 4,
      "outputs": [
        {
          "output_type": "stream",
          "name": "stdout",
          "text": [
            "클래스 Student가 호출되었습니다.\n",
            "클래스 Student가 호출되었습니다.\n"
          ]
        }
      ]
    },
    {
      "cell_type": "markdown",
      "metadata": {
        "id": "qjwD6iv4n23m"
      },
      "source": [
        "####**인스턴스 속성 접근**\n",
        "\n",
        "위에서 생성한 인스턴스의 속성들 name, subject, level에 접근하고 출력합니다. \n",
        "```\n",
        "me.name, me.subject, me.level\n",
        "```"
      ]
    },
    {
      "cell_type": "code",
      "metadata": {
        "id": "7tuZarTSn23m",
        "outputId": "81ae816b-b227-41dc-b47e-a9b751a86568",
        "colab": {
          "base_uri": "https://localhost:8080/"
        }
      },
      "source": [
        "me.name, me.subject, me.level, you.name, you.subject, you.level"
      ],
      "execution_count": 5,
      "outputs": [
        {
          "output_type": "execute_result",
          "data": {
            "text/plain": [
              "('윤예빈', '자율주행', 0, '홍길동', '자율주행', 0)"
            ]
          },
          "metadata": {},
          "execution_count": 5
        }
      ]
    },
    {
      "cell_type": "markdown",
      "metadata": {
        "id": "p0QGxnV3n23m"
      },
      "source": [
        "###**(4) 클래스 메서드**\n",
        "\n",
        "class 안에서 메서드를 추가 할 수 있습니다. Student 클래스 안에 인사를 출력하는 `introduce` 메서드를 추가해보겠습니다. \n",
        "클래스 안에 메서드를 만들 때는 기본적으로 메서드 안에 `self`가 들어가야 합니다. \n",
        "\n",
        "```\n",
        "# 클래스 생성\n",
        "class Student():\n",
        "    def __init__(self, name, subject):\n",
        "      self.name = name\n",
        "      self.subject = subject\n",
        "      self.level = 0\n",
        "\n",
        "    def introduce(self):\n",
        "      print(f\"안녕하세요. {self.subject} 수업을 듣는 {self.name} 입니다.\")\n",
        "\n",
        "# 인스턴스 생성\n",
        "me = Student(\"김모모\", \"기초반\")\n",
        "\n",
        "# 메서드 실행\n",
        "me.introduce()\n",
        "```"
      ]
    },
    {
      "cell_type": "markdown",
      "metadata": {
        "id": "7st1KEFjn23m"
      },
      "source": [
        "* 클래스 생성"
      ]
    },
    {
      "cell_type": "code",
      "metadata": {
        "id": "9X7zV8mln23m"
      },
      "source": [
        "class Student(): \n",
        "  # Student 클래스는 인풋 name, subject가 필요하다\n",
        "\n",
        "  def __init__(self, name, subject): # 함수이름 : __init__ -> 매직메서드: 호출 시 바로 실행 된다. 클래스에 (거의) 필수요소\n",
        "    print('클래스 Student가 호출되었습니다.')\n",
        "    # self는 클래스안의 함수들끼리 소통위해 존재\n",
        "    # name, subject를 다른 함수에서도 사용하게끔 정의를 해주자\n",
        "    self.name = name\n",
        "    self.subject = subject\n",
        "    self.level = 0\n",
        "\n",
        "  # 자기소개 함수\n",
        "  def 자기소개(self): # 클래스 안의 함수는 무조건 self가 인풋으로 들어가야함\n",
        "    # 내이름 소개하기\n",
        "    print(f'{self.subject} 수업을 듣는 {self.name} 입니다.')\n",
        "\n",
        "# 클래스안에 포함된 함수들은 무조건 'self' 인풋이 포함되어 있어야 한다."
      ],
      "execution_count": 6,
      "outputs": []
    },
    {
      "cell_type": "markdown",
      "metadata": {
        "id": "ESSI1NKon23m"
      },
      "source": [
        "* 인스턴스 생성"
      ]
    },
    {
      "cell_type": "code",
      "metadata": {
        "id": "zYkKsuupn23m",
        "outputId": "b68d3a12-7a9c-48c3-ded8-0b3cb91589ae",
        "colab": {
          "base_uri": "https://localhost:8080/"
        }
      },
      "source": [
        "me = Student('윤예빈', '자율주행')"
      ],
      "execution_count": 7,
      "outputs": [
        {
          "output_type": "stream",
          "name": "stdout",
          "text": [
            "클래스 Student가 호출되었습니다.\n"
          ]
        }
      ]
    },
    {
      "cell_type": "markdown",
      "metadata": {
        "id": "jKNKPdlon23m"
      },
      "source": [
        "* `introduct()` 메서드 실행"
      ]
    },
    {
      "cell_type": "code",
      "source": [
        "me.자기소개()"
      ],
      "metadata": {
        "id": "aR_cJ1LTnpHk",
        "outputId": "07c51415-5e27-449b-8028-59a448351a05",
        "colab": {
          "base_uri": "https://localhost:8080/"
        }
      },
      "execution_count": 8,
      "outputs": [
        {
          "output_type": "stream",
          "name": "stdout",
          "text": [
            "자율주행 수업을 듣는 윤예빈 입니다.\n"
          ]
        }
      ]
    },
    {
      "cell_type": "markdown",
      "source": [
        "#### **또다른 인스턴스 생성**\n",
        "\n",
        "앞서 클래스 자체는 틀이고 인스턴스는 그 틀에서 찍어낸 함수와 같다 했습니다. `me`라는 인스턴스 말고 `you`라는 인스턴스를 생성해 봅시다. \n",
        "\n",
        "* 인스턴스 생성\n",
        "\n",
        "```\n",
        "you = Student(\"김학생\", \"수반\")\n",
        "\n",
        "```"
      ],
      "metadata": {
        "id": "b-Sq8YL-s8Oy"
      }
    },
    {
      "cell_type": "code",
      "source": [
        "you = Student(\"김학생\", \"수반\")\n"
      ],
      "metadata": {
        "id": "-lnmBLFRbFbl",
        "outputId": "f5483afb-d5bc-4d9d-eba9-d6ea0a03f945",
        "colab": {
          "base_uri": "https://localhost:8080/"
        }
      },
      "execution_count": 9,
      "outputs": [
        {
          "output_type": "stream",
          "name": "stdout",
          "text": [
            "클래스 Student가 호출되었습니다.\n"
          ]
        }
      ]
    },
    {
      "cell_type": "markdown",
      "source": [
        "* introduce() 메서드 실행\n",
        "\n",
        "```\n",
        "you.introuduce()\n",
        "```"
      ],
      "metadata": {
        "id": "2q47vsMfvTYM"
      }
    },
    {
      "cell_type": "code",
      "source": [
        "you.자기소개()"
      ],
      "metadata": {
        "id": "XogKQrBHvQ_-",
        "outputId": "6d175768-83e9-46a2-9468-8bc31b519c99",
        "colab": {
          "base_uri": "https://localhost:8080/"
        }
      },
      "execution_count": 10,
      "outputs": [
        {
          "output_type": "stream",
          "name": "stdout",
          "text": [
            "수반 수업을 듣는 김학생 입니다.\n"
          ]
        }
      ]
    },
    {
      "cell_type": "markdown",
      "source": [
        "#### **메서드에 입력변수 추가하기**\n",
        "\n",
        "이번에는 클래스에 레벨을 올리는 `levelup` 메서드를 추가해봅시다. 이 메서드에는 레벨을 얼만큼 올릴지를 인풋으로 받을 겁니다. \n",
        "\n",
        "```\n",
        "# 클래스 생성\n",
        "class Student():\n",
        "    def __init__(self, name, subject):\n",
        "      self.name = name\n",
        "      self.subject = subject\n",
        "      self.level = 0\n",
        "\n",
        "    def introduce(self):\n",
        "      print(f\"안녕하세요. {self.subject} 수업을 듣는 {self.name} 입니다.\")\n",
        "\n",
        "    def levelup(self, l)\n",
        "      level_before = self.level\n",
        "      self.level = self.level+l\n",
        "      print(f\"{level_before}에서 {self.level}로 레벨업 했습니다.\")\n",
        "\n",
        "# 인스턴스 생성\n",
        "me = Student(\"김모모\", \"기초반\")\n",
        "\n",
        "# 메서드 실행\n",
        "me.introduce()\n",
        "\n",
        "```"
      ],
      "metadata": {
        "id": "J1CXlJND_9tJ"
      }
    },
    {
      "cell_type": "markdown",
      "metadata": {
        "id": "CsYlr8M-A9Sr"
      },
      "source": [
        "* 클래스 생성"
      ]
    },
    {
      "cell_type": "code",
      "metadata": {
        "id": "6L8J9AwLA9Ss"
      },
      "source": [
        "class Student(): \n",
        "  # Student 클래스는 인풋 name, subject가 필요하다\n",
        "  def __init__(self, name, subject): # 함수이름 : __init__ -> 매직메서드: 호출 시 바로 실행 된다. 클래스에 (거의) 필수요소\n",
        "    print('클래스 Student가 호출되었습니다.')\n",
        "    # self는 클래스안의 함수들끼리 소통위해 존재\n",
        "    # name, subject를 다른 함수에서도 사용하게끔 정의를 해주자\n",
        "    self.name = name\n",
        "    self.subject = subject\n",
        "    self.level = 0\n",
        "\n",
        "  # 자기소개 함수\n",
        "  def 자기소개(self): # 클래스 안의 함수는 무조건 self가 인풋으로 들어가야함\n",
        "    # 내이름 소개하기\n",
        "    print(f'{self.subject} 수업을 듣는 {self.name} 입니다.')\n",
        "\n",
        "  # 레벨업 함수\n",
        "  def 레벨업(self, n): # 레벨업 함수는 n 이란 변수가 필요하다.\n",
        "    before_lev = self.level\n",
        "    self.level += n\n",
        "    # 현재 레벨에 n을 증가 시킨다.\n",
        "    print(f'레벨이 {before_lev}에서 {self.level} 으로 변경됐습니다.')\n",
        "    #print(f'레벨이 {self.level} 에서', end=' ')\n",
        "    #self.level = self.level + n # self.변수는 고정된건 아니고, 변화 가능\n",
        "    #print(f'{self.level} 으로 변경되었습니다. ')\n",
        "\n",
        "# 클래스안에 포함된 함수들은 무조건 'self' 인풋이 포함되어 있어야 한다."
      ],
      "execution_count": 14,
      "outputs": []
    },
    {
      "cell_type": "markdown",
      "metadata": {
        "id": "5NI7YvkWA9Ss"
      },
      "source": [
        "* 인스턴스 생성"
      ]
    },
    {
      "cell_type": "code",
      "metadata": {
        "id": "KLPvCX4YA9Ss",
        "outputId": "019d1b31-1ac2-408d-b839-0c7ce91352e3",
        "colab": {
          "base_uri": "https://localhost:8080/"
        }
      },
      "source": [
        "me = Student('윤예빈', '자율주행')"
      ],
      "execution_count": 15,
      "outputs": [
        {
          "output_type": "stream",
          "name": "stdout",
          "text": [
            "클래스 Student가 호출되었습니다.\n"
          ]
        }
      ]
    },
    {
      "cell_type": "markdown",
      "metadata": {
        "id": "areIEkhtA9Ss"
      },
      "source": [
        "* `levelup()` 메서드 실행\n",
        "\n",
        "`levelup` 메서드는 `level_step` 이라는 변수를 필요로 합니다. 따라서 몇레벨을 업할 것인지 적어줍니다."
      ]
    },
    {
      "cell_type": "code",
      "source": [
        "me.레벨업(10)"
      ],
      "metadata": {
        "id": "eFB8RWhTA9Ss",
        "outputId": "99c22406-a883-4be3-ddd5-ff9fb403f016",
        "colab": {
          "base_uri": "https://localhost:8080/"
        }
      },
      "execution_count": 17,
      "outputs": [
        {
          "output_type": "stream",
          "name": "stdout",
          "text": [
            "레벨이 5에서 15 으로 변경됐습니다.\n"
          ]
        }
      ]
    },
    {
      "cell_type": "markdown",
      "source": [
        "* `self.level` 값 확인\n",
        "\n",
        "level 초기 값을 0으로 설정했습니다. levelup 메서드를 이용하여 level 이라는 속성값을 변경하였으니 이를 확인해 봅시다."
      ],
      "metadata": {
        "id": "Wo9d9vi6EIP9"
      }
    },
    {
      "cell_type": "code",
      "source": [
        "me.level = 50"
      ],
      "metadata": {
        "id": "VdIrwqXNvllc"
      },
      "execution_count": 18,
      "outputs": []
    },
    {
      "cell_type": "code",
      "source": [
        "me.name = '홍길동'\n",
        "print(me.자기소개())\n",
        "print(me.level)"
      ],
      "metadata": {
        "id": "S9GFGBiqsmBI",
        "outputId": "d5abfe02-43bc-43a1-c3fe-d0176a2bffa4",
        "colab": {
          "base_uri": "https://localhost:8080/"
        }
      },
      "execution_count": 21,
      "outputs": [
        {
          "output_type": "stream",
          "name": "stdout",
          "text": [
            "자율주행 수업을 듣는 홍길동 입니다.\n",
            "None\n",
            "50\n"
          ]
        }
      ]
    },
    {
      "cell_type": "markdown",
      "source": [
        "## 문제풀이"
      ],
      "metadata": {
        "id": "kO1BO7irtFFi"
      }
    },
    {
      "cell_type": "code",
      "source": [
        "class Student(): \n",
        "  # Student 클래스는 인풋 name, subject가 필요하다\n",
        "  def __init__(self, name, subject): # 함수이름 : __init__ -> 매직메서드: 호출 시 바로 실행 된다. 클래스에 (거의) 필수요소\n",
        "    print('클래스 Student가 호출되었습니다.')\n",
        "    # self는 클래스안의 함수들끼리 소통위해 존재\n",
        "    # name, subject를 다른 함수에서도 사용하게끔 정의를 해주자\n",
        "    self.name = name\n",
        "    self.subject = subject\n",
        "    self.level = 0\n",
        "    self.들은과목 = {}\n",
        "\n",
        "  # 자기소개 함수\n",
        "  def 자기소개(self): # 클래스 안의 함수는 무조건 self가 인풋으로 들어가야함\n",
        "    # 내이름 소개하기\n",
        "    print(f'{self.subject} 수업을 듣는 {self.name} 입니다.')\n",
        "\n",
        "  # 레벨업 함수\n",
        "  def 레벨업(self, n): # 레벨업 함수는 n 이란 변수가 필요하다.\n",
        "    before_lev = self.level\n",
        "    self.level += n\n",
        "    # 현재 레벨에 n을 증가 시킨다.\n",
        "    print(f'레벨이 {before_lev}에서 {self.level} 으로 변경됐습니다.')\n",
        "    #print(f'레벨이 {self.level} 에서', end=' ')\n",
        "    #self.level = self.level + n # self.변수는 고정된건 아니고, 변화 가능\n",
        "    #print(f'{self.level} 으로 변경되었습니다. ')\n",
        "\n",
        "  # 과목 이름을 입력하면 self.들은과목에 과목이 추가되는 함수\n",
        "  def subadd(self, subj) : \n",
        "    k = len(self.들은과목)\n",
        "    self.들은과목[k] = subj\n",
        "    print(f'수강과목에 {subj}가 추가됐습니다.')\n",
        "\n",
        "# 클래스안에 포함된 함수들은 무조건 'self' 인풋이 포함되어 있어야 한다."
      ],
      "metadata": {
        "id": "pKDdgE96tGzP"
      },
      "execution_count": 29,
      "outputs": []
    },
    {
      "cell_type": "code",
      "source": [
        "me.subadd('파이썬')"
      ],
      "metadata": {
        "id": "AoJdxdf2zHk1",
        "outputId": "d9279ead-f64d-4d29-f62c-54a1b4eaed5d",
        "colab": {
          "base_uri": "https://localhost:8080/",
          "height": 172
        }
      },
      "execution_count": 30,
      "outputs": [
        {
          "output_type": "error",
          "ename": "AttributeError",
          "evalue": "ignored",
          "traceback": [
            "\u001b[0;31m---------------------------------------------------------------------------\u001b[0m",
            "\u001b[0;31mAttributeError\u001b[0m                            Traceback (most recent call last)",
            "\u001b[0;32m<ipython-input-30-584d70f2fcd1>\u001b[0m in \u001b[0;36m<module>\u001b[0;34m\u001b[0m\n\u001b[0;32m----> 1\u001b[0;31m \u001b[0mme\u001b[0m\u001b[0;34m.\u001b[0m\u001b[0msubadd\u001b[0m\u001b[0;34m(\u001b[0m\u001b[0;34m'파이썬'\u001b[0m\u001b[0;34m)\u001b[0m\u001b[0;34m\u001b[0m\u001b[0;34m\u001b[0m\u001b[0m\n\u001b[0m",
            "\u001b[0;31mAttributeError\u001b[0m: 'Student' object has no attribute 'subadd'"
          ]
        }
      ]
    },
    {
      "cell_type": "code",
      "source": [
        "class Student(): \n",
        "  # Student 클래스는 인풋 name, subject가 필요하다\n",
        "  def __init__(self, name, subject): # 함수이름 : __init__ -> 매직메서드: 호출 시 바로 실행 된다. 클래스에 (거의) 필수요소\n",
        "    print('클래스 Student가 호출되었습니다.')\n",
        "    # self는 클래스안의 함수들끼리 소통위해 존재\n",
        "    # name, subject를 다른 함수에서도 사용하게끔 정의를 해주자\n",
        "    self.name = name\n",
        "    self.subject = subject\n",
        "    self.level = 0\n",
        "    self.들은과목 = {}\n",
        "\n",
        "  # 자기소개 함수\n",
        "  def 자기소개(self): # 클래스 안의 함수는 무조건 self가 인풋으로 들어가야함\n",
        "    # 내이름 소개하기\n",
        "    print(f'{self.subject} 수업을 듣는 {self.name} 입니다.')\n",
        "\n",
        "  # 레벨업 함수\n",
        "  def 레벨업(self, n): # 레벨업 함수는 n 이란 변수가 필요하다.\n",
        "    # 현재 레벨에 n을 증가 시킨다.\n",
        "    print(f'레벨이 {self.level} 에서', end=' ')\n",
        "    self.level = self.level + n # self.변수는 고정된건 아니고, 변화 가능\n",
        "    print(f'{self.level} 으로 변경되었습니다. ')\n",
        "\n",
        "  # 과목 이름을 입력하면 self.들은과목 = {} [] 에 과목이 추가 되는 함수\n",
        "  def 과목추가(self, 과목):\n",
        "    k = len(self.들은과목)\n",
        "    self.들은과목[k] = 과목\n",
        "    print(f'수강 과목에 {과목}이 추가되었습니다.')\n",
        "\n",
        "# 클래스안에 포함된 함수들은 무조건 'self' 인풋이 포함되어 있어야 한다."
      ],
      "metadata": {
        "id": "dbku1cz9yc0V"
      },
      "execution_count": 31,
      "outputs": []
    },
    {
      "cell_type": "code",
      "source": [
        "me.과목추가('파이썬')"
      ],
      "metadata": {
        "id": "Ej3ddfyLy-_v",
        "outputId": "06686d2f-c762-4bc1-9619-dc3d287396a4",
        "colab": {
          "base_uri": "https://localhost:8080/",
          "height": 172
        }
      },
      "execution_count": 32,
      "outputs": [
        {
          "output_type": "error",
          "ename": "AttributeError",
          "evalue": "ignored",
          "traceback": [
            "\u001b[0;31m---------------------------------------------------------------------------\u001b[0m",
            "\u001b[0;31mAttributeError\u001b[0m                            Traceback (most recent call last)",
            "\u001b[0;32m<ipython-input-32-48d5b8ba2de6>\u001b[0m in \u001b[0;36m<module>\u001b[0;34m\u001b[0m\n\u001b[0;32m----> 1\u001b[0;31m \u001b[0mme\u001b[0m\u001b[0;34m.\u001b[0m\u001b[0m과목추가\u001b[0m\u001b[0;34m(\u001b[0m\u001b[0;34m'파이썬'\u001b[0m\u001b[0;34m)\u001b[0m\u001b[0;34m\u001b[0m\u001b[0;34m\u001b[0m\u001b[0m\n\u001b[0m",
            "\u001b[0;31mAttributeError\u001b[0m: 'Student' object has no attribute '과목추가'"
          ]
        }
      ]
    },
    {
      "cell_type": "code",
      "source": [],
      "metadata": {
        "id": "UHkSKurqzCTk"
      },
      "execution_count": null,
      "outputs": []
    }
  ]
}