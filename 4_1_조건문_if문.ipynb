{
  "nbformat": 4,
  "nbformat_minor": 0,
  "metadata": {
    "colab": {
      "name": "4-1. 조건문 : if문.ipynb",
      "provenance": [],
      "include_colab_link": true
    },
    "kernelspec": {
      "name": "python3",
      "display_name": "Python 3"
    },
    "language_info": {
      "name": "python"
    }
  },
  "cells": [
    {
      "cell_type": "markdown",
      "metadata": {
        "id": "view-in-github",
        "colab_type": "text"
      },
      "source": [
        "<a href=\"https://colab.research.google.com/github/oparupa/SkillTreePython/blob/main/4_1_%EC%A1%B0%EA%B1%B4%EB%AC%B8_if%EB%AC%B8.ipynb\" target=\"_parent\"><img src=\"https://colab.research.google.com/assets/colab-badge.svg\" alt=\"Open In Colab\"/></a>"
      ]
    },
    {
      "cell_type": "markdown",
      "source": [
        "# 4-1. 조건문 : if문\n",
        "---\n",
        "* 날짜:23-01-04\n",
        "* 이름:박주환"
      ],
      "metadata": {
        "id": "kB5IciXEm6o4"
      }
    },
    {
      "cell_type": "markdown",
      "source": [
        "## 개념정리\n",
        "---\n",
        "\n",
        "\n",
        "어떤 특정한 조건에서만 코드가 작동되게 하려면 어떻게 할까요? 파이썬의 경우에는 `if, elif, else` 를 이용하여 코드를 제어합니다. n가지 조건이 나열되어 있을 때 아래와 같이 `if, elif, else`를 배분합니다.\n",
        "\n",
        "\n",
        "```\n",
        "if 조건1:\n",
        "  조건1 만족시 작동\n",
        "elif 조건2:\n",
        "  조건2 만족시 작동\n",
        "...\n",
        "elif 조건n-1:\n",
        "  조건n-1 만족시 작동\n",
        "else:\n",
        "  조건 n 만족시 작동\n",
        "```"
      ],
      "metadata": {
        "id": "4iN8NFzHRJ2D"
      }
    },
    {
      "cell_type": "markdown",
      "source": [
        "### **(1) 기본 사용**\n",
        "\n",
        "간단한 if 문을 작성해 봅시다. if문 하나만으로도 코드를 작성할 수 있습니다. \n",
        "\n",
        "```\n",
        "a = 2\n",
        "\n",
        "if a==2: # a가 2라면 ,\n",
        "  print(\"if문의 영향을 받는 출력\") # 이 코드를 실행\n",
        "```"
      ],
      "metadata": {
        "id": "MAM8MDnfw68b"
      }
    },
    {
      "cell_type": "code",
      "source": [
        "a = 2\n",
        "\n",
        "if a==2: # a가 2라면 ,\n",
        "  print(\"if문의 영향을 받는 출력\") # 이 코드를 실행"
      ],
      "metadata": {
        "id": "qzaIeO6tSQsb",
        "outputId": "9a0cd04c-e229-4d1a-bd1b-4b2aa2423d65",
        "colab": {
          "base_uri": "https://localhost:8080/"
        }
      },
      "execution_count": 1,
      "outputs": [
        {
          "output_type": "stream",
          "name": "stdout",
          "text": [
            "if문의 영향을 받는 출력\n"
          ]
        }
      ]
    },
    {
      "cell_type": "markdown",
      "source": [
        "#### **들여쓰기**\n",
        "\n",
        "if 문 아래의 `print` 코드는 몇칸을 뛴 후 작성한 것을 볼 수 있습니다. 이를 들여쓰기라고 합니다. 파이썬에서 들여쓰기 한 코드는 들여쓰기를 하기 전 코드의 영향력 아래에 있음을 의미합니다.\n",
        "\n",
        "따라서 위코드에서  `print(\"if문의 영향을 받는 출력\")` 이 부분은 if문의 영향을 받기 때문에 `a==1`일 때만 코드가 실행됩니다.\n",
        "\n",
        "만약 if문의 영향을 끝내고 싶다면 들여쓰기를 하지 않고 코드를 작성하면 됩니다.\n",
        "\n",
        "a 가 2가 아니지만 `print(\"if문의 영향을 받지 않는 출력\")` 줄은 if문의 영향을 받지 않기 때문에 a 값과 상관없이 출력이 됩니다.\n",
        "\n",
        "```\n",
        "a = 0\n",
        "\n",
        "if a==2: # a가 2라면 ,\n",
        "  print(\"if문의 영향을 받는 출력\") # 이 코드를 실행\n",
        "print(\"if문의 영향을 받지 않는 출력\") # 이 코드는 항상 실행됨\n",
        "\n",
        "```"
      ],
      "metadata": {
        "id": "iiBldnc8SdV6"
      }
    },
    {
      "cell_type": "code",
      "source": [
        "a = 2\n",
        "\n",
        "if a==2: # a가 2라면 ,\n",
        "  print(\"if문의 영향을 받는 출력\") # 이 코드를 실행\n",
        "print(\"if문의 영향을 받지 않는 출력\") # 이 코드는 항상 실행됨"
      ],
      "metadata": {
        "id": "y3FK5KXTSVLF",
        "outputId": "33110149-1a19-4179-ab9d-f238b50a47c6",
        "colab": {
          "base_uri": "https://localhost:8080/"
        }
      },
      "execution_count": 13,
      "outputs": [
        {
          "output_type": "stream",
          "name": "stdout",
          "text": [
            "if문의 영향을 받는 출력\n",
            "if문의 영향을 받지 않는 출력\n"
          ]
        }
      ]
    },
    {
      "cell_type": "markdown",
      "source": [
        "#### **`elif`**\n",
        "\n",
        "\n",
        "만약 조건을 더 추가하고 싶다면 `elif`를 사용합니다. 이제 조건은 더 세분화 할 수 있습니다.\n",
        "\n",
        "```\n",
        "a= 3\n",
        " \n",
        "if a ==2: # 첫번째 조건을 만족하면\n",
        "  print(\"첫번째 조건을 만족합니다.\") # 이 코드를 실행\n",
        "elif a==3: # 첫번째 조건이 아니라 두번째 조건을 만족하면\n",
        "  print(\"두번째 조건을 만족합니다.\") # 이 조건을 실행\n",
        "```\n"
      ],
      "metadata": {
        "id": "46u1an5GXDc3"
      }
    },
    {
      "cell_type": "code",
      "source": [
        "a= 3\n",
        "\n",
        "if a ==2: # 첫번째 조건을 만족하면\n",
        "  print(\"첫번째 조건을 만족합니다.\") # 이 코드를 실행\n",
        "elif a==3: # 첫번째 조건이 아니라 두번째 조건을 만족하면\n",
        "  print(\"두번째 조건을 만족합니다.\") # 이 조건을 실행"
      ],
      "metadata": {
        "id": "gPQGwmiRVXyL",
        "outputId": "52488884-d372-46f9-edba-268d5e3d2db5",
        "colab": {
          "base_uri": "https://localhost:8080/"
        }
      },
      "execution_count": 3,
      "outputs": [
        {
          "output_type": "stream",
          "name": "stdout",
          "text": [
            "두번째 조건을 만족합니다.\n"
          ]
        }
      ]
    },
    {
      "cell_type": "markdown",
      "source": [
        "한번 더 조건을 더 추가 하고 싶나요? 마찬가지로 `elif`를 사용합니다. \n",
        "\n",
        "```\n",
        "a= 4\n",
        "\n",
        "if a ==2: # 첫번째 조건을 만족하면 \n",
        "  print(\"첫번째 조건을 만족합니다.\") # 이 코드를 실행\n",
        "elif a==3: # 첫번재 조건이 아니라 두번째 조건을 만족하면\n",
        "  print(\"두번째 조건을 만족합니다.\") # 이 코드를 실행\n",
        "elif a==4: # 첫번째, 두번째 조건이 아니라 세번째 조건을 만족하면\n",
        "  print(\"세번째 조건을 만족합니다.\") # 이 코드를 실행\n",
        "```\n"
      ],
      "metadata": {
        "id": "US4qWBR3ZYsk"
      }
    },
    {
      "cell_type": "code",
      "source": [
        "a= 4\n",
        "\n",
        "if a ==2: # 첫번째 조건을 만족하면 \n",
        "  print(\"첫번째 조건을 만족합니다.\") # 이 코드를 실행\n",
        "elif a==3: # 첫번재 조건이 아니라 두번째 조건을 만족하면\n",
        "  print(\"두번째 조건을 만족합니다.\") # 이 코드를 실행\n",
        "elif a==4: # 첫번째, 두번째 조건이 아니라 세번째 조건을 만족하면\n",
        "  print(\"세번째 조건을 만족합니다.\") # 이 코드를 실행"
      ],
      "metadata": {
        "id": "iqKBm-oZZad_",
        "outputId": "40ed0f5b-ff01-478c-9cca-eb788f1a61b0",
        "colab": {
          "base_uri": "https://localhost:8080/"
        }
      },
      "execution_count": 4,
      "outputs": [
        {
          "output_type": "stream",
          "name": "stdout",
          "text": [
            "세번째 조건을 만족합니다.\n"
          ]
        }
      ]
    },
    {
      "cell_type": "markdown",
      "source": [
        "#### **`else`**\n",
        "\n",
        "정수는 무한이 많습니다. 2도 아니고, 3도 아니고, 4도 아닌 어느 조건에도 해당하지 않으면 `else`가 실행됩니다.\n",
        "\n",
        "```\n",
        "a= 100\n",
        "\n",
        "if a ==2: # 첫번째 조건을 만족하면 ,\n",
        "  print(\"첫번째 조건을 만족합니다.\") # 이 코드를 실행\n",
        "elif a==3: # 첫번재 조건이 아니라 두번째 조건을 만족하면,\n",
        "  print(\"두번째 조건을 만족합니다.\") # 이 코드를 실행\n",
        "elif a==4: # 첫번째, 두번째 조건이 아니라 세번째 조건을 만족하면,\n",
        "  print(\"세번째 조건을 만족합니다.\") # 이 코드를 실행\n",
        "else: # 어느 조건에도 해당하지 않으면,\n",
        "  print(\"어느 조건에도 해당하지 않습니다.\") # 이 코드를 실행\n",
        "```\n"
      ],
      "metadata": {
        "id": "LwqyhnqYZqd6"
      }
    },
    {
      "cell_type": "code",
      "source": [
        "a= 100\n",
        "\n",
        "if a ==2: # 첫번째 조건을 만족하면 ,\n",
        "  print(\"첫번째 조건을 만족합니다.\") # 이 코드를 실행\n",
        "elif a==3: # 첫번재 조건이 아니라 두번째 조건을 만족하면,\n",
        "  print(\"두번째 조건을 만족합니다.\") # 이 코드를 실행\n",
        "elif a==4: # 첫번째, 두번째 조건이 아니라 세번째 조건을 만족하면,\n",
        "  print(\"세번째 조건을 만족합니다.\") # 이 코드를 실행\n",
        "else: # 어느 조건에도 해당하지 않으면,\n",
        "  print(\"어느 조건에도 해당하지 않습니다.\") # 이 코드를 실행\n",
        "\n",
        "\n",
        "print(\"어느 조건에도 해당하지 않습니다.\") # 이 코드를 실행 #else가 없어도.. 딱히?"
      ],
      "metadata": {
        "id": "X6WumNNKZcwh",
        "outputId": "de1f4b65-209e-4720-f073-1a90267781c2",
        "colab": {
          "base_uri": "https://localhost:8080/"
        }
      },
      "execution_count": 7,
      "outputs": [
        {
          "output_type": "stream",
          "name": "stdout",
          "text": [
            "어느 조건에도 해당하지 않습니다.\n"
          ]
        }
      ]
    },
    {
      "cell_type": "markdown",
      "source": [
        "\n",
        "### **(2) 여러가지 조건문**\n",
        "\n"
      ],
      "metadata": {
        "id": "l5Mhn4qKZ83M"
      }
    },
    {
      "cell_type": "markdown",
      "source": [
        "#### **두개 이상의 조건**\n",
        "\n",
        "여기서 말하는 두개 이상의 조건은 한 if문에 `and`나 `or`로 연결된 다중 조건을 말합니다. 3의 배수를 생각해 봅시다. 3의 배수는 3으로 나누어 떨어집니다. 또한 3의 배수는 3부터 시작합니다. 따라서 이 두가지 조건을 같이 넣어 봅시다.\n",
        "\n",
        "```\n",
        "a = 12\n",
        "\n",
        "if a>=3 and a%3==0: # a가 3의 배수이면\n",
        "  print(f\"{a}는 3의 배수입니다\") # 이 코드를 실행\n",
        "```\n",
        "\n",
        "코드에서 보듯이 두가지 조건을 연결할 때는 `and` 를 사용합니다. 둘 중 어느 하나만이 아니라 두가지 조건을 모두 만족해야 if문이 실행됩니다."
      ],
      "metadata": {
        "id": "6eSFgbhWaJdw"
      }
    },
    {
      "cell_type": "code",
      "source": [
        "a = 12\n",
        "\n",
        "if a>=3 and a%3==0: # a가 3의 배수이면\n",
        "  print(f\"{a}는 3의 배수입니다\") # 이 코드를 실행"
      ],
      "metadata": {
        "id": "qXQmWJ6aZ0Sx",
        "outputId": "e51365ba-672e-4735-b0fa-93432ccac56b",
        "colab": {
          "base_uri": "https://localhost:8080/"
        }
      },
      "execution_count": 8,
      "outputs": [
        {
          "output_type": "stream",
          "name": "stdout",
          "text": [
            "12는 3의 배수입니다\n"
          ]
        }
      ]
    },
    {
      "cell_type": "markdown",
      "source": [
        "#### **이중 if 문**\n",
        "\n",
        "\n",
        "if문 내에 if 문이 들어가 있을 때를 얘기합니다. 이중 if문뿐 아니라 삼중, 사중, 그 이상도 가능합니다. (실제로 잘 사용되지는 않습니다.)\n",
        "\n",
        "```\n",
        "a = 12\n",
        "\n",
        "if a<100: # a가 100보다 작고, \n",
        "  if a%2==0: # a가 2로 나누어 떨어지면,\n",
        "    print(\"짝수입니다.\") # 이 코드를 실행\n",
        "else:  # a가 100보다 크면\n",
        "  print(\"입력숫자초과\") # 이 코드를 실행\n",
        "```"
      ],
      "metadata": {
        "id": "-sGSZzeGaSTo"
      }
    },
    {
      "cell_type": "code",
      "source": [
        "a = 13\n",
        "\n",
        "if a<100: # a가 100보다 작고, \n",
        "  if a%2==0: # a가 2로 나누어 떨어지면,\n",
        "    print(\"짝수입니다.\") # 이 코드를 실행\n",
        "  else:\n",
        "    print('홀수입니다.')\n",
        "else:  # a가 100보다 크면\n",
        "  print(\"입력숫자초과\") # 이 코드를 실행"
      ],
      "metadata": {
        "id": "zXboSnyHbHab",
        "outputId": "469f105c-c6dc-450d-8358-c34e6b2fa246",
        "colab": {
          "base_uri": "https://localhost:8080/"
        }
      },
      "execution_count": 17,
      "outputs": [
        {
          "output_type": "stream",
          "name": "stdout",
          "text": [
            "홀수입니다.\n"
          ]
        }
      ]
    },
    {
      "cell_type": "markdown",
      "source": [
        "#### `pass`\n",
        "\n",
        "조건문을 작성했으나, 조건에 해당하는 코드를 작성할 필요가 없을 때 사용합니다.\n",
        "조건문을 작성하고 아래와 같이 조건문 밑에 코드를 작성하지 않으면 오류가 납니다.\n",
        "\n",
        "```\n",
        "a = 2\n",
        "if a==2:\n",
        "else:\n",
        "  print('a is not 2')\n",
        "```"
      ],
      "metadata": {
        "id": "aKDeHTjtfoRH"
      }
    },
    {
      "cell_type": "code",
      "source": [
        "a = 2\n",
        "if a==2: #IndentationError: expected an indented block\n",
        "  \n",
        "else:\n",
        "  print('a is not 2')"
      ],
      "metadata": {
        "id": "OeivHoclf3Q1",
        "outputId": "75e81d07-81e5-4208-8004-9375cfb5cbe1",
        "colab": {
          "base_uri": "https://localhost:8080/",
          "height": 137
        }
      },
      "execution_count": 10,
      "outputs": [
        {
          "output_type": "error",
          "ename": "IndentationError",
          "evalue": "ignored",
          "traceback": [
            "\u001b[0;36m  File \u001b[0;32m\"<ipython-input-10-9d6929b9a60a>\"\u001b[0;36m, line \u001b[0;32m3\u001b[0m\n\u001b[0;31m    else:\u001b[0m\n\u001b[0m    ^\u001b[0m\n\u001b[0;31mIndentationError\u001b[0m\u001b[0;31m:\u001b[0m expected an indented block\n"
          ]
        }
      ]
    },
    {
      "cell_type": "markdown",
      "source": [
        "따라서 이런 경우에는 `pass`를 작성해 줍니다.\n",
        "\n",
        "```\n",
        "a = 2\n",
        "if a==2:\n",
        "  pass\n",
        "else:\n",
        "  print('a is not 2')\n",
        "```"
      ],
      "metadata": {
        "id": "-beh_n5Dle1c"
      }
    },
    {
      "cell_type": "code",
      "source": [
        "a = 2\n",
        "if a==2:\n",
        "  pass\n",
        "else:\n",
        "  print('a is not 2')"
      ],
      "metadata": {
        "id": "L-glmaFJlk6c"
      },
      "execution_count": 19,
      "outputs": []
    },
    {
      "cell_type": "code",
      "source": [
        "a==2"
      ],
      "metadata": {
        "id": "DijFqu23Icgx",
        "outputId": "39bf2e6d-f26c-4ae6-c196-96907077d851",
        "colab": {
          "base_uri": "https://localhost:8080/"
        }
      },
      "execution_count": 20,
      "outputs": [
        {
          "output_type": "execute_result",
          "data": {
            "text/plain": [
              "True"
            ]
          },
          "metadata": {},
          "execution_count": 20
        }
      ]
    },
    {
      "cell_type": "markdown",
      "source": [
        "### **(3) `if True:`/ `if False:`** "
      ],
      "metadata": {
        "id": "rKbgEKwJbINj"
      }
    },
    {
      "cell_type": "markdown",
      "source": [
        "if문의 조건으로 들어간 `<`, `==` 등의 기호는 산술연산자로서 우리는 이미 앞에서 산술연산자에 대해서 배웠습니다. \n",
        "\n",
        "산술연산자의 결과로 `True` 혹은 `False` 라는 `bool` 값이 나오게 되기 때문에 위에서 우리가 작성한 if문 줄은 `if True:` 혹은 `if False`와 동일합니다.\n",
        "\n",
        "이 말은 `if True` 일 때는 그 아래 코드가 실행이 되고 `if False` 일 때는 그 아래 코드가 실행 되지 않음을 의미합니다.\n",
        "\n",
        "```\n",
        "if True:\n",
        "  print(\"무조건 실행이 됩니다.\")\n",
        "\n",
        "if False:\n",
        "  print(\"무조건 실행이 되지 않습니다.\")\n",
        "```\n",
        "\n"
      ],
      "metadata": {
        "id": "40tGdKqla0D3"
      }
    },
    {
      "cell_type": "code",
      "source": [
        "if True:\n",
        "  print(\"무조건 실행이 됩니다.\")\n",
        "\n",
        "if False:\n",
        "  print(\"무조건 실행이 되지 않습니다.\")"
      ],
      "metadata": {
        "id": "2b2Zcj5FcI2k",
        "outputId": "d8776286-aaa0-4aab-9574-3b7b3907059d",
        "colab": {
          "base_uri": "https://localhost:8080/"
        }
      },
      "execution_count": 12,
      "outputs": [
        {
          "output_type": "stream",
          "name": "stdout",
          "text": [
            "무조건 실행이 됩니다.\n"
          ]
        }
      ]
    },
    {
      "cell_type": "markdown",
      "source": [
        "\n",
        "따라서 if문에는 bool값을 모두 조건문으로 사용할 수 있습니다.  우리는 앞서 `bool` 값을 반환하는 또 다른 연산자들을 배워 봤습니다. 그 중 `is`, `is not`을 이용해 코드를 작성해 보겠습니다.\n",
        "\n",
        "\n",
        "```\n",
        "a = 10\n",
        "b = 10.0\n",
        "\n",
        "if a is b:\n",
        "  print(\"a와 b는 동일\")\n",
        "```"
      ],
      "metadata": {
        "id": "lCOowsEGcI7u"
      }
    },
    {
      "cell_type": "code",
      "source": [
        "a = 10\n",
        "b = 10.0\n",
        "\n",
        "if a is b:\n",
        "  print(\"a와 b는 동일\")"
      ],
      "metadata": {
        "id": "Uzczw78BfTsH"
      },
      "execution_count": 21,
      "outputs": []
    },
    {
      "cell_type": "markdown",
      "source": [
        "출력이 되나요? `is`는 데이터 타입까지 같아야 `True`라고 하였습니다. 따라서 출력이 되지 않는게 맞습니다."
      ],
      "metadata": {
        "id": "m3uzd_GqfU8O"
      }
    },
    {
      "cell_type": "markdown",
      "source": [
        "#### **`in`, `not in`**\n",
        "\n",
        "우리가 `bool` 시간에 배우지 않은 연산자가 있습니다. 바로 `in`과 `not in` 입니다. 파이썬의 다양한 군집 자료형 안에 특정 요소가 들어있는지, 아닌지를 판별할 수 있는 유용한 연산자 입니다.\n",
        "\n",
        "* `a in s` : 군집 자료형 `s` 안에 요소 `a`가 존재\n",
        "* `a not in s` : 군집 자료형 `s` 안에 요소 'a`가 존재하지 않음.\n",
        "\n",
        "```\n",
        "s= [1,2,3]\n",
        "a = 2\n",
        "\n",
        "if a in s:\n",
        "  print(f\"{a} 가 {s}에 존재합니다.\")\n",
        "```"
      ],
      "metadata": {
        "id": "ypphueHcfmYy"
      }
    },
    {
      "cell_type": "code",
      "source": [
        "s= [1,2,3]\n",
        "a = 2\n",
        "\n",
        "if a in s:\n",
        "  print(f\"{a} 가 {s}에 존재합니다.\")"
      ],
      "metadata": {
        "id": "NBhc0GUUgTKF",
        "outputId": "3fcca720-6104-419c-9796-acd30848f5e4",
        "colab": {
          "base_uri": "https://localhost:8080/"
        }
      },
      "execution_count": 22,
      "outputs": [
        {
          "output_type": "stream",
          "name": "stdout",
          "text": [
            "2 가 [1, 2, 3]에 존재합니다.\n"
          ]
        }
      ]
    },
    {
      "cell_type": "markdown",
      "source": [
        "\n",
        "### **(3) 삼항 연산자**\n",
        "\n",
        "조건문과 같은 기능을 하는 연산자입니다.  상황에 맞게 잘 사용한다면 코드 길이를 효과적으로 줄일 수 있습니다.\n",
        "\n",
        "\n",
        "```\n",
        "# 조건문\n",
        "if 조건:(2)\n",
        "  조건이참일때코드(1)\n",
        "else:(3)\n",
        "  조건거짓일때코드(4)\n",
        "\n",
        "# 삼항 연산자\n",
        "조건참일때코드  if 조건   else   조건거짓일때코드\n",
        "       (1)        (2)     (3)          (4)\n",
        "\n",
        "```\n",
        "아래 코드를 삼항 연산자로 변환해 봅시다.\n",
        "```\n",
        "a = 2\n",
        "\n",
        "if a==2: # 2\n",
        "  print(\"a는 2다.\") # 1\n",
        "else: # 3\n",
        "  print(\"a는 2가 아니다.\") # 4\n",
        "```\n",
        "\n",
        "변환결과\n",
        "\n",
        "```\n",
        "a = 2\n",
        "print(\"a는 2다.\") if a==2 else print(\"a는 2가 아니다.\")\n",
        "```"
      ],
      "metadata": {
        "id": "MddSbtGuaYiD"
      }
    },
    {
      "cell_type": "code",
      "source": [
        "a = 2\n",
        "\n",
        "if a==2: # 2\n",
        "  print(\"a는 2다.\") # 1\n",
        "else: # 3\n",
        "  print(\"a는 2가 아니다.\") # 4\n",
        "\n",
        "\n",
        "print(\"a는 2다.\") if a==2 else print(\"a는 2가 아니다.\")\n"
      ],
      "metadata": {
        "id": "HVDwjdH2aMFj",
        "outputId": "fc63d3a1-46de-4b26-8040-9a74e343170a",
        "colab": {
          "base_uri": "https://localhost:8080/"
        }
      },
      "execution_count": 23,
      "outputs": [
        {
          "output_type": "stream",
          "name": "stdout",
          "text": [
            "a는 2다.\n",
            "a는 2다.\n"
          ]
        }
      ]
    },
    {
      "cell_type": "markdown",
      "source": [
        "## 문제 풀이\n",
        "---\n",
        "\n"
      ],
      "metadata": {
        "id": "i0_nVSq-ahHr"
      }
    },
    {
      "cell_type": "markdown",
      "source": [
        "**예제 01**\n",
        "\n",
        "아래 코드의 실행결과를 예측하고 직접 실행해보세요\n",
        "\n",
        "```\n",
        "if True:\n",
        "    print(\"Hello World\")\n",
        "```"
      ],
      "metadata": {
        "id": "cxHw7Eqwah07"
      }
    },
    {
      "cell_type": "code",
      "source": [
        "if True: #True는 무조건 출력되므로 Hello World가 출력될거 같다.\n",
        "    print(\"Hello World\")"
      ],
      "metadata": {
        "id": "fIQIHPX7gi6D",
        "outputId": "f5b79e4f-cbe5-462d-b2ef-e771532dbdc1",
        "colab": {
          "base_uri": "https://localhost:8080/"
        }
      },
      "execution_count": 24,
      "outputs": [
        {
          "output_type": "stream",
          "name": "stdout",
          "text": [
            "Hello World\n"
          ]
        }
      ]
    },
    {
      "cell_type": "markdown",
      "source": [
        "\n",
        "**예제 02**\n",
        "\n",
        "아래 코드의 실행결과를 예측하고 직접 실행해보세요\n",
        "\n",
        "```\n",
        "if False:\n",
        "    print(\"Hello World\")\n",
        "```\n"
      ],
      "metadata": {
        "id": "mbDRyjksgi9s"
      }
    },
    {
      "cell_type": "code",
      "source": [
        "if False: #False는 출력이 안되므로 아무것도 출력이 안된다.\n",
        "    print(\"Hello World\")"
      ],
      "metadata": {
        "id": "0cNRiYJKgjZw"
      },
      "execution_count": 25,
      "outputs": []
    },
    {
      "cell_type": "markdown",
      "source": [
        "\n",
        "**예제 03**\n",
        "\n",
        "아래 코드의 실행결과를 예측하고 직접 실행해보세요\n",
        "```\n",
        "if True:\n",
        "    print(\"Hello World\")\n",
        "else\n",
        "    print(\"else\")\n",
        "```"
      ],
      "metadata": {
        "id": "QNTlcFQxgjdK"
      }
    },
    {
      "cell_type": "code",
      "source": [
        "if True: #위와 마찬가지이므로 \"Hello World\"가 출력된다.\n",
        "    print(\"Hello World\")\n",
        "else:\n",
        "    print(\"else\") #하지만 오류가 뜬다. 왜? => 콜론이 없었다"
      ],
      "metadata": {
        "id": "37avWITVgmFO",
        "outputId": "42bb217d-b63b-446a-f1dc-1aa8c1cf962c",
        "colab": {
          "base_uri": "https://localhost:8080/"
        }
      },
      "execution_count": 29,
      "outputs": [
        {
          "output_type": "stream",
          "name": "stdout",
          "text": [
            "Hello World\n"
          ]
        }
      ]
    },
    {
      "cell_type": "markdown",
      "source": [
        "**예제 04**\n",
        "\n",
        "아래 코드의 실행결과를 예측하고 직접 실행해보세요\n",
        "\n",
        "```\n",
        "if False:\n",
        "    print(\"Hello World\")\n",
        "else\n",
        "    print(\"else\")\n",
        "```\n"
      ],
      "metadata": {
        "id": "1GB2dx6sgks-"
      }
    },
    {
      "cell_type": "code",
      "source": [
        "if False: #False는 출력이 안되므로 else가 출력될거 같은데 3번때문에 오류가 뜨나?\n",
        "    print(\"Hello World\")\n",
        "else:\n",
        "    print(\"else\") #오류가 뜬다. 콜론이 없었다"
      ],
      "metadata": {
        "id": "ay0sKGUjgkxo",
        "outputId": "0fad344a-7f0c-41b4-c532-abf2a92b01da",
        "colab": {
          "base_uri": "https://localhost:8080/"
        }
      },
      "execution_count": 30,
      "outputs": [
        {
          "output_type": "stream",
          "name": "stdout",
          "text": [
            "else\n"
          ]
        }
      ]
    },
    {
      "cell_type": "markdown",
      "source": [
        "**예제 05**\n",
        "\n",
        "아래 코드의 실행결과를 예측하고 직접 실행해보세요\n",
        "```\n",
        "if 4 < 3:\n",
        "    print(\"Hello World.\")\n",
        "else:\n",
        "    print(\"Hi, there.\")\n",
        "```"
      ],
      "metadata": {
        "id": "a7t3w6UMgmI1"
      }
    },
    {
      "cell_type": "code",
      "source": [
        "if 4 < 3: #False값이므로 else가 출력 \"Hi, there.\"\n",
        "   print(\"Hello World.\")\n",
        "else:\n",
        "    print(\"Hi, there.\")"
      ],
      "metadata": {
        "id": "0knF53DogoMw",
        "outputId": "4f3b23d4-6a89-47b0-83ca-fd9f9b223309",
        "colab": {
          "base_uri": "https://localhost:8080/"
        }
      },
      "execution_count": 31,
      "outputs": [
        {
          "output_type": "stream",
          "name": "stdout",
          "text": [
            "Hi, there.\n"
          ]
        }
      ]
    },
    {
      "cell_type": "markdown",
      "source": [
        "\n",
        "**예제 06**\n",
        "\n",
        "아래 코드의 실행결과를 예측하고 직접 실행해보세요\n",
        "```\n",
        "if True :\n",
        "    print (\"1\")\n",
        "    print (\"2\")\n",
        "else :\n",
        "    print(\"3\")\n",
        "print(\"4\")\n",
        "```"
      ],
      "metadata": {
        "id": "bZKHjuuYgoSO"
      }
    },
    {
      "cell_type": "code",
      "source": [
        "if True : #True는 출력되므로 1, 2는 출력\n",
        "    print (\"1\")\n",
        "    print (\"2\")\n",
        "else : #if가 True이므로 3은 미출력\n",
        "    print(\"3\")\n",
        "print(\"4\") #4는 if와 전혀 상관없으므로 출력"
      ],
      "metadata": {
        "id": "FLBUCsIQgpsX",
        "outputId": "13c61dca-a341-4d4c-ff0d-6f8fcb29e357",
        "colab": {
          "base_uri": "https://localhost:8080/"
        }
      },
      "execution_count": 32,
      "outputs": [
        {
          "output_type": "stream",
          "name": "stdout",
          "text": [
            "1\n",
            "2\n",
            "4\n"
          ]
        }
      ]
    },
    {
      "cell_type": "markdown",
      "source": [
        "**예제 07**\n",
        "\n",
        "아래 코드의 실행결과를 예측하고 직접 실행해보세요\n",
        "```\n",
        "if True :\n",
        "    if False:\n",
        "        print(\"1\")\n",
        "        print(\"2\")\n",
        "    else:\n",
        "        print(\"3\")\n",
        "else :\n",
        "    print(\"4\")\n",
        "print(\"5\")\n",
        "\n",
        "```"
      ],
      "metadata": {
        "id": "hzyVRikUgpwD"
      }
    },
    {
      "cell_type": "code",
      "source": [
        "if True : #True이므로 반드시 출력하지만 이중if에서 첫번째는 False이므로 미출력 else의 3이 출력\n",
        "    if False:\n",
        "        print(\"1\")\n",
        "        print(\"2\")\n",
        "    else:\n",
        "        print(\"3\")\n",
        "else : #4는 건너뜀\n",
        "    print(\"4\")\n",
        "print(\"5\") #5는 if와 상관없으므로 출력, 3과 5가 출력된다"
      ],
      "metadata": {
        "id": "LLG7boA8gqrI",
        "outputId": "85b086b7-60e8-4b85-c1a3-9b187309315d",
        "colab": {
          "base_uri": "https://localhost:8080/"
        }
      },
      "execution_count": 33,
      "outputs": [
        {
          "output_type": "stream",
          "name": "stdout",
          "text": [
            "3\n",
            "5\n"
          ]
        }
      ]
    },
    {
      "cell_type": "markdown",
      "source": [
        "**예제 08**\n",
        "\n",
        "입력된 문자열의 길이가 3보다 크면 \"TRUE!\"를 출력하고 그렇지 않으면 'FALSE!'이라는 문자열을 출력하는 코드를 작성하세요. 입력은 내장함수 `input()`를 사용하세요.\n"
      ],
      "metadata": {
        "id": "Gwu5n-oDgqyg"
      }
    },
    {
      "cell_type": "code",
      "source": [
        "word = input()\n",
        "if len(word) > 3:\n",
        "  print('\"TRUE!\"')\n",
        "else : \n",
        "  print(\"'FALSE!'\")"
      ],
      "metadata": {
        "id": "ANsokcT6gtQz",
        "outputId": "a8746107-9175-48b3-9800-97d78d2a0de4",
        "colab": {
          "base_uri": "https://localhost:8080/"
        }
      },
      "execution_count": 118,
      "outputs": [
        {
          "output_type": "stream",
          "name": "stdout",
          "text": [
            "코스모스\n",
            "\"TRUE!\"\n"
          ]
        }
      ]
    },
    {
      "cell_type": "markdown",
      "source": [
        "**예제 09**\n",
        "\n",
        "입력된 정수값이 짝수이거나 10보다 낮으면 \"target!\" 그렇지 않으면 \"pass\" 라는 문자열을 출력하는 코드를 작성하세요. 입력은 내장함수 `input()`를 사용하세요."
      ],
      "metadata": {
        "id": "9Du9uUgLgta3"
      }
    },
    {
      "cell_type": "code",
      "source": [
        "num = int(input())\n",
        "if num%2==0 or num < 10 :\n",
        "  print('\"target!\"')\n",
        "else : \n",
        "  print('\"pass\"')\n"
      ],
      "metadata": {
        "id": "43fY7qzEgvHf",
        "outputId": "7162a699-a9d6-496d-f6e0-c5e5c7b2e6a4",
        "colab": {
          "base_uri": "https://localhost:8080/"
        }
      },
      "execution_count": 39,
      "outputs": [
        {
          "output_type": "stream",
          "name": "stdout",
          "text": [
            "23\n",
            "\"pass\"\n"
          ]
        }
      ]
    },
    {
      "cell_type": "markdown",
      "source": [
        "**예제 10**\n",
        "\n",
        "\n",
        "0에서 100까지의 정수 `n`을 입력받습니다. 만약 범위에 해당하지 않는 정수를 입력하면 에러 메시지를 보내고 종료됩니다. 제대로 입력하였으면 정수 n에 10을 빼고 출력합니다. 만약 10을 뺀 값이 0보다 작으면 0을 출력하세요\n",
        "\n",
        "\n",
        "* 예시\n",
        "```\n",
        ">> n을 입력하세요: 50\n",
        "40\n",
        "```\n",
        "\n",
        "* 예시\n",
        "```\n",
        ">> n을 입력하세요: 5\n",
        "0\n",
        "```\n",
        "\n",
        "* 예시\n",
        "```\n",
        ">> n을 입력하세요: 200\n",
        "잘못된 숫자입니다.\n",
        "```\n"
      ],
      "metadata": {
        "id": "61JVxwMVgvMh"
      }
    },
    {
      "cell_type": "code",
      "source": [
        "n = int(input(\"n을 입력하세요: \"))\n",
        "#if n >= 0 and n <= 100 : #0<=n<=100도 가능하다\n",
        "if 0<=n<=100 :\n",
        "  if n-10 < 0 :\n",
        "    print(0)\n",
        "  else :\n",
        "    print(n-10)\n",
        "else : #if not 0<=n<=100으로 시작할 수 있다.\n",
        "  print(\"잘못된 숫자입니다.\")\n"
      ],
      "metadata": {
        "id": "htKCPqm1l4jk",
        "outputId": "1cb13609-7122-4496-acd3-23eabc3e12b6",
        "colab": {
          "base_uri": "https://localhost:8080/"
        }
      },
      "execution_count": 120,
      "outputs": [
        {
          "output_type": "stream",
          "name": "stdout",
          "text": [
            "n을 입력하세요: 5\n",
            "0\n"
          ]
        }
      ]
    },
    {
      "cell_type": "markdown",
      "source": [
        "**예제 11**\n",
        "\n",
        "사용자로부터 문자열을 입력받고 옵션에 따라 대문자 또는 소문자로 변경하는 함수를 작성하세요\n",
        "\n",
        "* 예시\n",
        "```\n",
        ">> change_str(\"aBc\")\n",
        "ABC\n",
        "```\n",
        "\n",
        "* 예시\n",
        "```\n",
        ">> change_str(\"aBc\", opt='up')\n",
        "ABC\n",
        "```\n",
        "\n",
        "* 예시\n",
        "```\n",
        ">> change_str(\"aBc\", opt='down')\n",
        "abc\n",
        "```"
      ],
      "metadata": {
        "id": "RKC26VgahIGt"
      }
    },
    {
      "cell_type": "code",
      "source": [
        "#모르겠어\n",
        "\n",
        "def change_str(w, opt='up'): #이렇게 디폴트를 설정하는건가?\n",
        "  if opt == 'up':\n",
        "    return w.upper()\n",
        "  elif opt == 'down':\n",
        "    return w.lower()\n",
        "  else:\n",
        "    return 0\n",
        "\n",
        "print(change_str('aBc'))\n",
        "print(change_str(\"aBc\", opt='up'))\n",
        "print(change_str(\"aBc\", opt='down'))"
      ],
      "metadata": {
        "id": "HyyCKmjAgwLJ",
        "outputId": "5884f436-8daa-4170-ff89-eb36425d6f16",
        "colab": {
          "base_uri": "https://localhost:8080/"
        }
      },
      "execution_count": 121,
      "outputs": [
        {
          "output_type": "stream",
          "name": "stdout",
          "text": [
            "ABC\n",
            "ABC\n",
            "abc\n"
          ]
        }
      ]
    },
    {
      "cell_type": "markdown",
      "source": [
        "**예제 12**\n",
        "\n",
        "학점표를 보고 점수에 따른 학점을 출력하는 함수를 작성하세요\n",
        "\n",
        "|점수|학점|\n",
        "--|--\n",
        "70~100|A\n",
        "30~70 |B\n",
        "0~30 | C\n",
        "\n",
        "* 예시\n",
        "```\n",
        ">> cal_grade(50)\n",
        "학점은 B 입니다.\n",
        "```"
      ],
      "metadata": {
        "id": "bbUSm7Pm0ecC"
      }
    },
    {
      "cell_type": "code",
      "source": [
        "\n",
        "\n",
        "def cal_grade(num) :\n",
        "  global grade\n",
        "  if num < 30 :\n",
        "    grade = \"C\"\n",
        "  elif num < 70 :\n",
        "    grade = \"B\"\n",
        "  else :\n",
        "    #print(\"A\")\n",
        "    grade = \"A\"\n",
        "#cal_grade(num)\n",
        "  print(f\"학점은 {grade} 입니다.\")\n",
        "\n",
        "num = int(input())\n",
        "cal_grade(num)\n",
        "\n",
        "#a = input(\">> \")\n",
        "#print(f\"학점은 {eval(a)} 입니다.\") #왜 안되지..?\n"
      ],
      "metadata": {
        "id": "ptdi6nBj0iY9",
        "outputId": "23ec9157-c634-4622-f87a-2752aa1ef376",
        "colab": {
          "base_uri": "https://localhost:8080/"
        }
      },
      "execution_count": 139,
      "outputs": [
        {
          "output_type": "stream",
          "name": "stdout",
          "text": [
            "50\n",
            "학점은 B 입니다.\n"
          ]
        }
      ]
    },
    {
      "cell_type": "code",
      "source": [
        "score = int(input())\n",
        "def cal_grade(score):\n",
        "  if 70<=score<=100:\n",
        "    grade = 'A'\n",
        "  elif 30<=score<70:\n",
        "    grade = 'B'\n",
        "  elif 0<=score<30: #질문! else는 안돼!!\n",
        "    grade = 'C'\n",
        "    \n",
        "  print(f'학점은 {grade} 입니다.')\n",
        "cal_grade(score)\n",
        "#cal_grade(50)"
      ],
      "metadata": {
        "id": "LVV5bJOdlzbK",
        "outputId": "7b14ef3f-6950-4585-ded7-b4be0b06e076",
        "colab": {
          "base_uri": "https://localhost:8080/"
        }
      },
      "execution_count": 128,
      "outputs": [
        {
          "output_type": "stream",
          "name": "stdout",
          "text": [
            "50\n",
            "학점은 B 입니다.\n"
          ]
        }
      ]
    },
    {
      "cell_type": "markdown",
      "source": [
        "**예제 13**\n",
        "\n",
        "주민등록번호 뒷자리의 첫번째 번호를 통해 남여를 구분하세요(1,3 남/ 2,4 여) 만약 주민번호의 규격이 맞지 않으면 에러메시지를 출력하는 코드를 작성하세요. 인풋은 내장함수 `input()`로 받습니다.\n",
        "\n",
        "* 예시\n",
        "```\n",
        ">> 주민번호를 입력하세요: 101010-1010101\n",
        "남성입니다. \n",
        "```\n",
        "\n",
        "* 예시\n",
        "```\n",
        ">> 주민번호를 입력하세요: 101010-101\n",
        "주민번호가 올바르지 않습니다.\n",
        "```"
      ],
      "metadata": {
        "id": "hsVvXoNq0lw1"
      }
    },
    {
      "cell_type": "code",
      "source": [
        "num = input(\">> 주민번호를 입력하세요: \")\n",
        "if len(num) == 14 :\n",
        "  if int(num[7])<5 :\n",
        "    if int(num[7])%2 == 1 :\n",
        "      print(\"남성입니다.\")\n",
        "    else :\n",
        "      print(\"여성입니다.\")\n",
        "  else :\n",
        "    print(\"주민번호가 올바르지 않습니다.\")\n",
        "else : \n",
        "  print(\"주민번호가 올바르지 않습니다.\")\n",
        "\n",
        "\n"
      ],
      "metadata": {
        "id": "-ZBStYHn0skR",
        "outputId": "db93abda-6727-449f-874b-f1be63996ad9",
        "colab": {
          "base_uri": "https://localhost:8080/"
        }
      },
      "execution_count": 67,
      "outputs": [
        {
          "output_type": "stream",
          "name": "stdout",
          "text": [
            ">> 주민번호를 입력하세요: 101010-645235346\n",
            "주민번호가 올바르지 않습니다.\n"
          ]
        }
      ]
    },
    {
      "cell_type": "markdown",
      "source": [
        "**예제 14**\n",
        "\n",
        "자판기 함수를 생성합니다. 조건은 아래와 같습니다.\n",
        "\n",
        "- 음료수 종류와 가격이 적힌 메뉴판을 출력합니다.(최소 3가지 이상의 음료 종류를 딕셔너리 형태로 저장하세요)\n",
        "- 음료수 종류를 입력받고 가격을 안내합니다.\n",
        "- 금액을 입력받습니다.\n",
        "- 금액이 충분하면 음료수와 거스름돈을 반환하는 메시지를 출력합니다.\n",
        "- 금액이 불충분하면 금액을 반환하는 메시지를 출력합니다.\n"
      ],
      "metadata": {
        "id": "-ya-B4m20tmB"
      }
    },
    {
      "cell_type": "code",
      "source": [
        "\n",
        "\n",
        "menu = {\"콜라\" : 700, \"아아\" : 1500, \"라떼\" : 2500, \"프라페\" : 3500, \"요거트\" : 3800}\n",
        "print(menu)\n",
        "drink = input(\"음료수 : \")\n",
        "print(f\"{drink}는 {menu[drink]}원입니다.\")\n",
        "#print(type(menu[drink])) => int\n",
        "money = int(input(\"지불금액 : \"))\n",
        "def 자판기(money) :\n",
        "  if money >= menu[drink] :\n",
        "    print(f\"{drink}, 거스름돈 : {money - menu[drink]}\")\n",
        "  else :\n",
        "    print(f\"반환 : {money}\")\n",
        "자판기(money) #None은 왜 계속 나오는가 #print 사용하려면?? 이거 자체는 출력이 아니지?\n",
        "\n",
        "\n"
      ],
      "metadata": {
        "id": "dhiVxMpT0uxy",
        "outputId": "9250597a-30f6-4b5d-eb55-dd6fab219ff8",
        "colab": {
          "base_uri": "https://localhost:8080/"
        }
      },
      "execution_count": 132,
      "outputs": [
        {
          "output_type": "stream",
          "name": "stdout",
          "text": [
            "{'콜라': 700, '아아': 1500, '라떼': 2500, '프라페': 3500, '요거트': 3800}\n",
            "음료수 : 아아\n",
            "아아는 1500원입니다.\n",
            "지불금액 : 1000\n",
            "반환 : 1000\n"
          ]
        }
      ]
    },
    {
      "cell_type": "markdown",
      "source": [
        "\n",
        "**예제 15**\n",
        "\n",
        "두 수를 비교하는 함수를 만듭니다.\n",
        "\n",
        "* 예시\n",
        "```\n",
        ">> comp_ab(1,2)\n",
        "1<2\n",
        "```\n",
        "\n",
        "* 예시\n",
        "```\n",
        ">> comp_ab(2,1)\n",
        "2>1\n",
        "```\n",
        "\n",
        "* 예시\n",
        "```\n",
        ">> comp_ab(1,1)\n",
        "1==1\n",
        "```\n"
      ],
      "metadata": {
        "id": "CH2QLyAB0u26"
      }
    },
    {
      "cell_type": "code",
      "source": [
        "def comp_ab(int1, int2):\n",
        "  if int1 > int2 :\n",
        "    print(f\"{int1}>{int2}\")\n",
        "  elif int1 < int2 :\n",
        "    print(f\"{int1}<{int2}\")\n",
        "  else :\n",
        "    print(f\"{int1}=={int2}\")\n",
        "  \n",
        "comp_ab(1,1) #>>comp~()이걸 원하는건가..?"
      ],
      "metadata": {
        "id": "rqclrJtM059c",
        "outputId": "fc22772c-f072-48a5-e5be-d7327f57cd47",
        "colab": {
          "base_uri": "https://localhost:8080/"
        }
      },
      "execution_count": 78,
      "outputs": [
        {
          "output_type": "stream",
          "name": "stdout",
          "text": [
            "1==1\n"
          ]
        }
      ]
    },
    {
      "cell_type": "code",
      "source": [
        "def comp_ab(a,b):\n",
        "  if ab: #질문 ab??\n",
        "    print(f'{a}>{b}')\n",
        "  else:\n",
        "    print(f'{a}=={b}')\n",
        "\n",
        "comp_ab(1,2)\n",
        "comp_ab(2,1)\n",
        "comp_ab(1,1)"
      ],
      "metadata": {
        "id": "v9tCaEYcnOpS",
        "outputId": "5c7a0bd4-d6d4-441b-f7e0-65dc5fe59b88",
        "colab": {
          "base_uri": "https://localhost:8080/",
          "height": 376
        }
      },
      "execution_count": 133,
      "outputs": [
        {
          "output_type": "error",
          "ename": "NameError",
          "evalue": "ignored",
          "traceback": [
            "\u001b[0;31m---------------------------------------------------------------------------\u001b[0m",
            "\u001b[0;31mNameError\u001b[0m                                 Traceback (most recent call last)",
            "\u001b[0;32m<ipython-input-133-b1c2e35ebdc3>\u001b[0m in \u001b[0;36m<module>\u001b[0;34m\u001b[0m\n\u001b[1;32m      5\u001b[0m     \u001b[0mprint\u001b[0m\u001b[0;34m(\u001b[0m\u001b[0;34mf'{a}=={b}'\u001b[0m\u001b[0;34m)\u001b[0m\u001b[0;34m\u001b[0m\u001b[0;34m\u001b[0m\u001b[0m\n\u001b[1;32m      6\u001b[0m \u001b[0;34m\u001b[0m\u001b[0m\n\u001b[0;32m----> 7\u001b[0;31m \u001b[0mcomp_ab\u001b[0m\u001b[0;34m(\u001b[0m\u001b[0;36m1\u001b[0m\u001b[0;34m,\u001b[0m\u001b[0;36m2\u001b[0m\u001b[0;34m)\u001b[0m\u001b[0;34m\u001b[0m\u001b[0;34m\u001b[0m\u001b[0m\n\u001b[0m\u001b[1;32m      8\u001b[0m \u001b[0mcomp_ab\u001b[0m\u001b[0;34m(\u001b[0m\u001b[0;36m2\u001b[0m\u001b[0;34m,\u001b[0m\u001b[0;36m1\u001b[0m\u001b[0;34m)\u001b[0m\u001b[0;34m\u001b[0m\u001b[0;34m\u001b[0m\u001b[0m\n\u001b[1;32m      9\u001b[0m \u001b[0mcomp_ab\u001b[0m\u001b[0;34m(\u001b[0m\u001b[0;36m1\u001b[0m\u001b[0;34m,\u001b[0m\u001b[0;36m1\u001b[0m\u001b[0;34m)\u001b[0m\u001b[0;34m\u001b[0m\u001b[0;34m\u001b[0m\u001b[0m\n",
            "\u001b[0;32m<ipython-input-133-b1c2e35ebdc3>\u001b[0m in \u001b[0;36mcomp_ab\u001b[0;34m(a, b)\u001b[0m\n\u001b[1;32m      1\u001b[0m \u001b[0;32mdef\u001b[0m \u001b[0mcomp_ab\u001b[0m\u001b[0;34m(\u001b[0m\u001b[0ma\u001b[0m\u001b[0;34m,\u001b[0m\u001b[0mb\u001b[0m\u001b[0;34m)\u001b[0m\u001b[0;34m:\u001b[0m\u001b[0;34m\u001b[0m\u001b[0;34m\u001b[0m\u001b[0m\n\u001b[0;32m----> 2\u001b[0;31m   \u001b[0;32mif\u001b[0m \u001b[0mab\u001b[0m\u001b[0;34m:\u001b[0m \u001b[0;31m#질문 ab??\u001b[0m\u001b[0;34m\u001b[0m\u001b[0;34m\u001b[0m\u001b[0m\n\u001b[0m\u001b[1;32m      3\u001b[0m     \u001b[0mprint\u001b[0m\u001b[0;34m(\u001b[0m\u001b[0;34mf'{a}>{b}'\u001b[0m\u001b[0;34m)\u001b[0m\u001b[0;34m\u001b[0m\u001b[0;34m\u001b[0m\u001b[0m\n\u001b[1;32m      4\u001b[0m   \u001b[0;32melse\u001b[0m\u001b[0;34m:\u001b[0m\u001b[0;34m\u001b[0m\u001b[0;34m\u001b[0m\u001b[0m\n\u001b[1;32m      5\u001b[0m     \u001b[0mprint\u001b[0m\u001b[0;34m(\u001b[0m\u001b[0;34mf'{a}=={b}'\u001b[0m\u001b[0;34m)\u001b[0m\u001b[0;34m\u001b[0m\u001b[0;34m\u001b[0m\u001b[0m\n",
            "\u001b[0;31mNameError\u001b[0m: name 'ab' is not defined"
          ]
        }
      ]
    },
    {
      "cell_type": "markdown",
      "source": [
        "**예제 16**\n",
        "\n",
        "아래 두개의 조건중 하나라도 만족하는 숫자를 입력하면 \"target\", 그렇지 않으면 \"pass\"를 출력하는 함수를 작성하세요\n",
        "\n",
        "- 3의 배수이면서, 5의 배수가 아닐때\n",
        "- 10의 배수일 때\n",
        "\n",
        "```\n",
        ">> target_num(15)\n",
        "pass\n",
        "```\n",
        "\n",
        "```\n",
        ">> target_num(150)\n",
        "target\n",
        "```"
      ],
      "metadata": {
        "id": "5LebGsgu06CO"
      }
    },
    {
      "cell_type": "code",
      "source": [
        "def target_num(int1):\n",
        "  if int1%3==0 and int1%5!=0: #and, or 달아서 같이 사용 가능\n",
        "    print(\"target\")\n",
        "  elif int1%10 == 0:\n",
        "    print(\"target\")\n",
        "  else :\n",
        "    print(\"pass\")\n",
        "\n",
        "target_num(12)"
      ],
      "metadata": {
        "id": "_j4vEmT70_rR",
        "outputId": "3431f44c-f4b1-4956-a18f-0d5747c952fa",
        "colab": {
          "base_uri": "https://localhost:8080/"
        }
      },
      "execution_count": 82,
      "outputs": [
        {
          "output_type": "stream",
          "name": "stdout",
          "text": [
            "target\n"
          ]
        }
      ]
    },
    {
      "cell_type": "markdown",
      "source": [
        "**예제 17**\n",
        "\n",
        "두개의 정수값을 받아서 몇사분면에 위치해 있는지, 혹은 x축, y축,  원점 위에 있는지 판단하는 함수를 작성하세요\n",
        "\n",
        "* 예시\n",
        "```\n",
        ">> which_plane(1,1)\n",
        "1사분면에 있습니다.\n",
        "```\n",
        "* 예시\n",
        "```\n",
        ">> which_plane(0,0)\n",
        "원점에 있습니다.\n",
        "```"
      ],
      "metadata": {
        "id": "_9ygEJmV0_wy"
      }
    },
    {
      "cell_type": "code",
      "source": [
        "def which_plane(int1, int2) :\n",
        "  if int1 > 0 :\n",
        "    if int2 > 0 :\n",
        "      return '1사분면에 있습니다.'\n",
        "    elif int2 < 0 :\n",
        "     return '4사분면에 있습니다.' #if에도 return 되는구나 근데 왜 return이 아니라print하면 none이 출력되는거?\n",
        "    else :\n",
        "      return 'X축에 있습니다.'\n",
        "  elif int1 < 0 :\n",
        "    if int2 > 0 :\n",
        "     return '2사분면에 있습니다.'\n",
        "    elif int2 < 0 :\n",
        "      return '3사분면에 있습니다.'\n",
        "    else :\n",
        "      return 'X축에 있습니다.'\n",
        "  else :\n",
        "    if int2 == 0 :\n",
        "      return '원점에 있습니다.'\n",
        "    else :\n",
        "      return 'Y축에 있습니다.'\n",
        "\n",
        "print(which_plane(30,0))\n",
        "print(which_plane(30,-30))\n",
        "print(which_plane(30,30))\n",
        "print(which_plane(-30,0))\n",
        "print(which_plane(-30,-30))\n",
        "print(which_plane(-30,30))\n",
        "print(which_plane(0,0))\n",
        "print(which_plane(0,-30))\n",
        "print(which_plane(0,30)) #None은왜.."
      ],
      "metadata": {
        "id": "c6YweOOI1HQX",
        "outputId": "86ae1ff6-8fc5-4664-8996-ef6abc744b8f",
        "colab": {
          "base_uri": "https://localhost:8080/"
        }
      },
      "execution_count": 85,
      "outputs": [
        {
          "output_type": "stream",
          "name": "stdout",
          "text": [
            "X축에 있습니다.\n",
            "4사분면에 있습니다.\n",
            "1사분면에 있습니다.\n",
            "X축에 있습니다.\n",
            "3사분면에 있습니다.\n",
            "2사분면에 있습니다.\n",
            "원점에 있습니다.\n",
            "Y축에 있습니다.\n",
            "Y축에 있습니다.\n"
          ]
        }
      ]
    },
    {
      "cell_type": "markdown",
      "source": [
        "**예제 18**\n",
        "\n",
        "시(H)와 분(M)을 입력하면 1시간 30분뒤 시간을 알려주는 함수를 작성하세요\n",
        "\n",
        "* 예시\n",
        "```\n",
        ">> after_time(7,30)\n",
        "9:00\n",
        "```\n",
        "\n",
        "* 예시\n",
        "```\n",
        ">> after_time(11,50)\n",
        "13:20\n",
        "```\n",
        "\n",
        "* 예시\n",
        "```\n",
        ">> after_time(23,40)\n",
        "01:10\n",
        "```"
      ],
      "metadata": {
        "id": "urINDRs11IVx"
      }
    },
    {
      "cell_type": "code",
      "source": [
        "def after_time(hour, min) :\n",
        "  if min < 30 :\n",
        "    if hour+1 < 24 :\n",
        "      print(f\"{hour+1}:{min+30}\")\n",
        "    else :\n",
        "      print(f\"{hour-23}:{min+30}\")\n",
        "  else : \n",
        "    if len(str(min-30))< 2 :\n",
        "      if hour+1 < 24 :\n",
        "        print(f\"{hour+2}:0{min-30}\")\n",
        "      else :\n",
        "        print(f\"{hour-22}:0{min-30}\")\n",
        "    else :\n",
        "      if hour+1 < 24 :\n",
        "        print(f\"{hour+2}:{min-30}\")\n",
        "      else :\n",
        "       print(f\"{hour-22}:{min-30}\")\n",
        "\n",
        "\n",
        "after_time(23, 39)"
      ],
      "metadata": {
        "id": "lhOhiExm1Qlm",
        "outputId": "fe009813-7aec-43d3-cd81-be63a5e1c4a7",
        "colab": {
          "base_uri": "https://localhost:8080/"
        }
      },
      "execution_count": 103,
      "outputs": [
        {
          "output_type": "stream",
          "name": "stdout",
          "text": [
            "1:09\n"
          ]
        }
      ]
    },
    {
      "cell_type": "code",
      "source": [
        "def after_time(H,M):\n",
        "  H+=1 # 1시간 더해주기\n",
        "  M+=30 # 30분 더해주기\n",
        "  if M >=60: # 60분이 넘어가면\n",
        "    H+=1 # 1시간을 더해주고\n",
        "    M-=60 # 60분은 감해줘서 0분 부터 시작\n",
        "  if H >=24: # 24시가 넘어가면\n",
        "    H-=24 # 24시를 감해줘서 0시 부터 시작\n",
        "\n",
        "  # 질문 str 자료형의 zfill 메서드 사용해 출력을 깔끔하게 할 수 있습니다.\n",
        "  H = str(H).zfill(2) \n",
        "  M = str(M).zfill(2) \n",
        "  print(f'{H}:{M}')\n",
        "\n",
        "after_time(7,30)\n",
        "after_time(11,50)\n",
        "after_time(23,40)"
      ],
      "metadata": {
        "id": "M0L4-24wnv_C",
        "outputId": "b0e72bc3-11f6-42f9-bddf-bd45e3f00088",
        "colab": {
          "base_uri": "https://localhost:8080/"
        }
      },
      "execution_count": 141,
      "outputs": [
        {
          "output_type": "stream",
          "name": "stdout",
          "text": [
            "09:00\n",
            "13:20\n",
            "01:10\n"
          ]
        }
      ]
    },
    {
      "cell_type": "markdown",
      "source": [
        "**예제 19**\n",
        "\n",
        "아래와 같이 사용자가 0부터 100까지 숫자를 입력하면 한국어로 변환하는 코드를 작성하세요\n",
        "\n",
        "* 예시\n",
        "```\n",
        ">> 0부터 100까지 숫자를 입력하세요: 100\n",
        "백\n",
        "```\n",
        "\n",
        "* 예시\n",
        "```\n",
        ">> 0부터 9까지 숫자를 입력하세요: 84\n",
        "팔십사\n",
        "```\n"
      ],
      "metadata": {
        "id": "J25zSIwn1SCp"
      }
    },
    {
      "cell_type": "code",
      "source": [
        "num = input(\">> 0부터 100까지 숫자를 입력하세요: \" )\n",
        "\n",
        "if len(num) == 3 :\n",
        "  print(\"백\")\n",
        "elif len(num) == 2 :\n",
        "  if num[0] == \"1\" :\n",
        "    print()\n"
      ],
      "metadata": {
        "id": "uDhjzIWA1bYP",
        "outputId": "f5ab102d-57dd-40a5-e401-54b47fe4d040",
        "colab": {
          "base_uri": "https://localhost:8080/",
          "height": 266
        }
      },
      "execution_count": 105,
      "outputs": [
        {
          "name": "stdout",
          "output_type": "stream",
          "text": [
            ">> 0부터 100까지 숫자를 입력하세요: 30\n"
          ]
        },
        {
          "output_type": "error",
          "ename": "TypeError",
          "evalue": "ignored",
          "traceback": [
            "\u001b[0;31m---------------------------------------------------------------------------\u001b[0m",
            "\u001b[0;31mTypeError\u001b[0m                                 Traceback (most recent call last)",
            "\u001b[0;32m<ipython-input-105-0540fe03901b>\u001b[0m in \u001b[0;36m<module>\u001b[0;34m\u001b[0m\n\u001b[1;32m      1\u001b[0m \u001b[0mnum\u001b[0m \u001b[0;34m=\u001b[0m \u001b[0minput\u001b[0m\u001b[0;34m(\u001b[0m\u001b[0;34m\">> 0부터 100까지 숫자를 입력하세요: \"\u001b[0m \u001b[0;34m)\u001b[0m\u001b[0;34m\u001b[0m\u001b[0;34m\u001b[0m\u001b[0m\n\u001b[1;32m      2\u001b[0m \u001b[0;34m\u001b[0m\u001b[0m\n\u001b[0;32m----> 3\u001b[0;31m \u001b[0mint\u001b[0m\u001b[0;34m(\u001b[0m\u001b[0mnum\u001b[0m\u001b[0;34m)\u001b[0m\u001b[0;34m[\u001b[0m\u001b[0;36m1\u001b[0m\u001b[0;34m]\u001b[0m\u001b[0;34m\u001b[0m\u001b[0;34m\u001b[0m\u001b[0m\n\u001b[0m\u001b[1;32m      4\u001b[0m \u001b[0;31m#if len(num) == 3 :\u001b[0m\u001b[0;34m\u001b[0m\u001b[0;34m\u001b[0m\u001b[0;34m\u001b[0m\u001b[0m\n\u001b[1;32m      5\u001b[0m  \u001b[0;31m# print(\"백\")\u001b[0m\u001b[0;34m\u001b[0m\u001b[0;34m\u001b[0m\u001b[0;34m\u001b[0m\u001b[0m\n",
            "\u001b[0;31mTypeError\u001b[0m: 'int' object is not subscriptable"
          ]
        }
      ]
    },
    {
      "cell_type": "markdown",
      "source": [
        "**예제 20**\n",
        "\n",
        "두참가자에게 투표를 한 문자열이 주어집니다. 1번과 2번중 더 높은 투표를 받은 사람이 번호를 출력하세요. 만약 투표수가 동일하면 \"draw\"를 출력합니다.\n",
        "\n",
        "* 예시\n",
        "```\n",
        ">> who_win(\"122211\")\n",
        "draw\n",
        "```\n",
        "\n",
        "* 예시\n",
        "```\n",
        ">> who_win(\"211222212\")\n",
        "2\n",
        "```"
      ],
      "metadata": {
        "id": "5r-j6QRK1ca0"
      }
    },
    {
      "cell_type": "code",
      "source": [
        "num = input()\n",
        "#print(list(num))\n",
        "#print(list(num).count('1'))\n",
        "\n",
        "def who_win(num) :\n",
        "  if list(num).count('1') > list(num).count('2') :\n",
        "    return 1\n",
        "  elif list(num).count('1') < list(num).count('2') :\n",
        "    return 2\n",
        "  else :\n",
        "    return \"draw\"\n",
        "\n",
        "print(who_win(num))\n"
      ],
      "metadata": {
        "id": "kXN8XBa91h3X",
        "outputId": "5dcefd39-0d83-46b0-e9d6-4e9a3052afea",
        "colab": {
          "base_uri": "https://localhost:8080/"
        }
      },
      "execution_count": 116,
      "outputs": [
        {
          "output_type": "stream",
          "name": "stdout",
          "text": [
            "121112\n",
            "1\n"
          ]
        }
      ]
    },
    {
      "cell_type": "code",
      "source": [
        "111"
      ],
      "metadata": {
        "id": "KMefHpR9bd6o"
      },
      "execution_count": null,
      "outputs": []
    }
  ]
}